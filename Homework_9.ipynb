{
 "cells": [
  {
   "cell_type": "markdown",
   "metadata": {
    "id": "SriEqMHcYh7Q"
   },
   "source": [
    "## Homework 9\n",
    "## Due date: Friday, April 8 at 11:59pm in Gradescope\n",
    "\n",
    "###  Use the following format for homework filename:  \n",
    "\n",
    "`Homework_8.py`\n",
    "\n",
    "#### This assignment is worth $23$ points. For all questions with plots, make sure to label the axes and provide a legend for all graph features."
   ]
  },
  {
   "cell_type": "code",
   "execution_count": 20,
   "metadata": {
    "id": "0LerrmmWYh7W"
   },
   "outputs": [],
   "source": [
    "import numpy as np\n",
    "import matplotlib.pyplot as plt\n",
    "\n",
    "try:\n",
    "    %matplotlib inline\n",
    "except:\n",
    "    pass\n",
    "    \n",
    "    \n",
    "# Use these functions for your root-finding. Some of the problems \n",
    "# will involve writing modified copies of these.\n",
    "    \n",
    "def bisec_method(a,b,f,tol):\n",
    "    fa,fb = f(a),f(b)\n",
    "    if fa*fb<0:\n",
    "        c = (a+b)/2.\n",
    "        fc = f(c)\n",
    "        while np.abs(fc)>=tol:\n",
    "            if fa*fc<0:\n",
    "                b = c\n",
    "            else:\n",
    "                a = c\n",
    "                fa = fc\n",
    "            c = (a+b)/2.\n",
    "            fc = f(c)\n",
    "        return c\n",
    "    else:\n",
    "        return [\"Cannot Ensure Existence\"]\n",
    "    \n",
    "def secant_method(f,x0,x1,tol):\n",
    "    f0 = f(x0)\n",
    "    f1 = f(x1)\n",
    "    x2 = x1 - f1*(x1-x0)/(f1-f0)\n",
    "    \n",
    "    while np.abs(f1) >= tol:\n",
    "        x0 = x1\n",
    "        x1 = x2\n",
    "        f0 = f1\n",
    "        f1 = f(x1)\n",
    "        x2 = x1 - f1*(x1-x0)/(f1-f0)\n",
    "    return x2\n",
    "\n",
    "def newtons_method(f,fp,x0,tol):\n",
    "    if fp(x0) != 0:\n",
    "        x1 = x0 - (f(x0)/fp(x0))\n",
    "        while np.abs(x1-x0) >= tol:\n",
    "            x0 = x1\n",
    "            x1 = x0 - (f(x0)/fp(x0))\n",
    "        return x1\n",
    "    else:\n",
    "        return []"
   ]
  },
  {
   "cell_type": "markdown",
   "metadata": {
    "id": "v40lwPEBYh7Y"
   },
   "source": [
    "## **Problem 1  (2 points)** \n",
    "\n",
    "Write a program that uses the bisection method to solve the nonlinear equation \n",
    "\n",
    "$$x = e^{-x}.$$ \n",
    "\n",
    "Choose your own initial interval. \n",
    "\n",
    "_Hint: With all root finding problems (which this problem is) plotting the given function can help you \n",
    "determine where to start looking._"
   ]
  },
  {
   "cell_type": "code",
   "execution_count": 21,
   "metadata": {
    "id": "SQpwpLFVYh7a",
    "outputId": "33aec789-a24c-467d-a045-12a5f4f2008f"
   },
   "outputs": [
    {
     "ename": "TypeError",
     "evalue": "'numpy.ndarray' object is not callable",
     "output_type": "error",
     "traceback": [
      "\u001b[0;31m---------------------------------------------------------------------------\u001b[0m",
      "\u001b[0;31mTypeError\u001b[0m                                 Traceback (most recent call last)",
      "Input \u001b[0;32mIn [21]\u001b[0m, in \u001b[0;36m<cell line: 8>\u001b[0;34m()\u001b[0m\n\u001b[1;32m      5\u001b[0m g \u001b[38;5;241m=\u001b[39m \u001b[38;5;28;01mlambda\u001b[39;00m x: np\u001b[38;5;241m.\u001b[39mexp(\u001b[38;5;241m-\u001b[39mx)\n\u001b[1;32m      7\u001b[0m f2 \u001b[38;5;241m=\u001b[39m f(x) \u001b[38;5;241m-\u001b[39m g(x)\n\u001b[0;32m----> 8\u001b[0m \u001b[43mbisec_method\u001b[49m\u001b[43m(\u001b[49m\u001b[38;5;241;43m-\u001b[39;49m\u001b[38;5;241;43m3\u001b[39;49m\u001b[43m,\u001b[49m\u001b[38;5;241;43m3\u001b[39;49m\u001b[43m,\u001b[49m\u001b[43mf2\u001b[49m\u001b[43m,\u001b[49m\u001b[38;5;241;43m1e-13\u001b[39;49m\u001b[43m)\u001b[49m\n",
      "Input \u001b[0;32mIn [20]\u001b[0m, in \u001b[0;36mbisec_method\u001b[0;34m(a, b, f, tol)\u001b[0m\n\u001b[1;32m     13\u001b[0m \u001b[38;5;28;01mdef\u001b[39;00m \u001b[38;5;21mbisec_method\u001b[39m(a,b,f,tol):\n\u001b[0;32m---> 14\u001b[0m     fa,fb \u001b[38;5;241m=\u001b[39m \u001b[43mf\u001b[49m\u001b[43m(\u001b[49m\u001b[43ma\u001b[49m\u001b[43m)\u001b[49m,f(b)\n\u001b[1;32m     15\u001b[0m     \u001b[38;5;28;01mif\u001b[39;00m fa\u001b[38;5;241m*\u001b[39mfb\u001b[38;5;241m<\u001b[39m\u001b[38;5;241m0\u001b[39m:\n\u001b[1;32m     16\u001b[0m         c \u001b[38;5;241m=\u001b[39m (a\u001b[38;5;241m+\u001b[39mb)\u001b[38;5;241m/\u001b[39m\u001b[38;5;241m2.\u001b[39m\n",
      "\u001b[0;31mTypeError\u001b[0m: 'numpy.ndarray' object is not callable"
     ]
    }
   ],
   "source": [
    "#Solution for Problem 1\n",
    "\n",
    "x = np.linspace(-3,3,int(1e3))\n",
    "f = lambda x: x\n",
    "g = lambda x: np.exp(-x)\n",
    "\n",
    "f2 = f(x) - g(x)\n",
    "bisec_method(-3,3,f2,1e-13)\n",
    "\n",
    "#make two different methods then do bisection\n"
   ]
  },
  {
   "cell_type": "markdown",
   "metadata": {},
   "source": [
    "## **Problem 2 (3 points)**\n",
    "\n",
    "Write a function called `x_solution(f, g, tol, max_iter, a, b)` where `f` and `g` are callable functions, \n",
    "`tol` and `max_iter` are strictly positive scalars such that `tol` is a floating point number less than 1 \n",
    "and `max_iter` is an integer, and `a`, `b` are any 2 real numbers such that $a < b$. The function should \n",
    "return `x` which is a scalar satisfying $|f(x) – g(x)| < tol$; that is, $x$ is a point in the interval $[a,b]$ \n",
    "that (almost) satisfies $f(x) = g(x)$. To find $x$, you should use the bisection \n",
    "method from the lecture notes, and the function should \"give up\" after `max_iter` number of iterations of the \n",
    "bisection \n",
    "method and return an empty list `[]` if this occurs. Make sure to try your function using $f(x) = x$ and \n",
    "$g(x)= e^{-x}$. Implementing `max_iter` with the bisection method will require writing a modified version \n",
    "of the given `bisec_method`."
   ]
  },
  {
   "cell_type": "code",
   "execution_count": 22,
   "metadata": {},
   "outputs": [
    {
     "name": "stdout",
     "output_type": "stream",
     "text": [
      "None\n"
     ]
    }
   ],
   "source": [
    "#Solution for Problem 2\n",
    "F = lambda x: f(x) - g(x)\n",
    "def x_solution(f,g,tol,max_iter,a,b):\n",
    "    def trial(f,first):\n",
    "        intial = first - 1\n",
    "        end = first +1\n",
    "        lim = 1000000\n",
    "        i=1\n",
    "        while i < lim:\n",
    "            if (f(initial) <0) & (f(end) > 0):\n",
    "                a = intial\n",
    "                b = end\n",
    "                return [a,b]\n",
    "            elif f(initial) > 0:\n",
    "                initial -= 2*initial\n",
    "            else:\n",
    "                end += 2*end\n",
    "        i+=1\n",
    "    i = 1\n",
    "    \n",
    "    def signage(a):\n",
    "        return (a>0)-(a<0)\n",
    "        while(i, max_iter):\n",
    "            m = (a+b)/2\n",
    "            if abs/F(m) < tol:\n",
    "                return m\n",
    "            elif signage(F(m)) == signage(F(a)):\n",
    "                a=m\n",
    "            else:\n",
    "                b = m\n",
    "        return []\n",
    "\n",
    "f = lambda x: x\n",
    "g = lambda x: np.exp(-x)\n",
    "tol = 1e-3\n",
    "lim = 1000000\n",
    "a = x_solution(f,g,tol,lim, 10,-10)\n",
    "print(a)"
   ]
  },
  {
   "cell_type": "markdown",
   "metadata": {},
   "source": [
    "## **Problem 3 (5 points)**\n",
    "\n",
    "Consider the problem of building a pipeline from an offshore oil platform, a distance $H$ miles from the \n",
    "shoreline, to an oil refinery station on land, a distance $L$ miles along the shore. The cost of building the \n",
    "pipe is $C_\\text{ocean/mile}$ while the pipe is under the ocean and $C_\\text{land/mile}$ while the pipe is on \n",
    "land. The pipe will be built in a straight line toward the shore where it will make contact at some point, \n",
    "$x$, between $0$ and $L$. It will continue along the shore on land until it reaches the oil refinery. See the \n",
    "figure for clarification.\n",
    "\n",
    "\n",
    "![image.png](https://pythonnumericalmethods.berkeley.edu/_images/19.05.01-Oil-platform.png)\n",
    "\n",
    "\n",
    "Write a function called `pipline(C_ocean, C_land, L, H, tol)`, where the input arguments are as described \n",
    "earlier, which returns `x`: the value of $x$ that minimizes the total cost of the pipeline. You should use the \n",
    "bisection method to determine this value to within a given tolerance of `tol` starting at an initial bound of \n",
    "$a = 0$ and $b = L$. You can assume that $C_\\text{ocean/mile} > C_\\text{land/mile} > 0$, $L, H > 0$, and that \n",
    "`tol` must be between 0 and 1. Make sure to show, with $\\LaTeX$, how you derive the expression for the total \n",
    "cost of the pipeline and how you use it to solve the given problem. The function will be worth 3 points, and \n",
    "your $\\LaTeX$ will be worth 2."
   ]
  },
  {
   "cell_type": "code",
   "execution_count": 23,
   "metadata": {},
   "outputs": [],
   "source": [
    "# Solution for problem 3\n",
    "##how to start\n",
    "#C = total costof land pipe + total cost of water pipe\n",
    "#a,b = 0,L\n",
    "#minimizing!\n",
    "#water pipe length = hypotenuse of the triangle on the left\n",
    "#therefore multiply the cost by the hypotenuse\n",
    "#sqrt of x^2+H^2\n",
    "#the function then find the derivative of the function\n",
    "#C=Cwater/mile(sqrt(x^2+H^2))+Cland/mile(L-x)\n",
    "#C_prime = (x*Cwater/mile)/sqrt(x^2+H^2) - Cland\n",
    "#C'(x) = x*Cwater- Cland*sqrt(x^2+H^2)   / sqrt(x**2+H^2)\n",
    "\n",
    "def pipline(C_ocean, C_land, L, H, tol):\n",
    "    a = 0\n",
    "    b = L\n",
    "    f = lambda x: math.sqrt(H**2 + x**2)\n",
    "    g = lambda x: L - x\n",
    "    cost = lambda x: f(c)*C_ocean + g(x) * C_land\n",
    "    error = lambda a,b: cos(a) - cos(b)\n",
    "    lim = int(np.ceil(np.log2(L/tol)))\n",
    "    i = 1\n",
    "    while i < lim:\n",
    "        m = (a+b)/2\n",
    "        if abs(error(a,b))< tol:\n",
    "            return m\n",
    "        elif abs(error(a,b)) < tol:\n",
    "            b = m\n",
    "        else:\n",
    "            a = m\n",
    "        i += 1"
   ]
  },
  {
   "cell_type": "markdown",
   "metadata": {
    "id": "tV888gu_Yh7b"
   },
   "source": [
    "## **Problem 4** (2 points)\n",
    "\n",
    "Write a program that uses the Newton method to find the roots of the following functions on the interval $-2\\pi \\leq x \\leq 2\\pi$.\n",
    "\n",
    "$$f(x) = x \\cos(x) − \\sin(x) \\quad\\text{ and }\\quad g(x) = (x^3 − x) \\sin(x).$$ \n",
    "\n",
    "These should be done as two separate calculations; print the roots for $f$ and $g$ separately.\n"
   ]
  },
  {
   "cell_type": "code",
   "execution_count": 28,
   "metadata": {
    "id": "JF3FlTjnYh7c",
    "outputId": "9a763163-7f88-4863-e060-571d53a6413a"
   },
   "outputs": [],
   "source": [
    "# Solution for Problem 4\n",
    "x = np.linspace(-2*np.pi, 2*np.pi, int(1e3))\n",
    "f = lambda x: x*np.cos(x)-np.sin(x)\n",
    "g = lambda x: (x**3-x)*np.sin(x)\n",
    "fp = lambda x: -x*np.sin(x)\n",
    "gp = lambda x: (3*x**2-1)*np.sin(x)+np.cos(x)*(x**3-x)"
   ]
  },
  {
   "cell_type": "markdown",
   "metadata": {},
   "source": [
    "## Part 1 f(x)"
   ]
  },
  {
   "cell_type": "code",
   "execution_count": 29,
   "metadata": {},
   "outputs": [
    {
     "data": {
      "text/plain": [
       "[]"
      ]
     },
     "execution_count": 29,
     "metadata": {},
     "output_type": "execute_result"
    }
   ],
   "source": [
    "x0 = 0\n",
    "tol = -1e6\n",
    "newtons_method(f,fp,x0,tol)"
   ]
  },
  {
   "cell_type": "markdown",
   "metadata": {},
   "source": [
    "## Part 2 g(x)"
   ]
  },
  {
   "cell_type": "code",
   "execution_count": null,
   "metadata": {},
   "outputs": [],
   "source": []
  },
  {
   "cell_type": "markdown",
   "metadata": {
    "id": "n3end85sYh7d"
   },
   "source": [
    "## **Problem 5** (2 points) \n",
    "\n",
    "Compute a root of the function \n",
    "$$f(x) = x^2 - 2$$ \n",
    "using the _secant method_ with initial guess $x_0 = 1.5$ and $x_1=1$. \n",
    "Choose a different initial guess and compute another root of the function $f(x)$. Print all roots found."
   ]
  },
  {
   "cell_type": "code",
   "execution_count": 106,
   "metadata": {
    "id": "E6kwyfL-Yh7e",
    "outputId": "b8a02c81-340f-4861-8f48-c7cf04660a40"
   },
   "outputs": [],
   "source": [
    "# Solution for problem 5\n"
   ]
  },
  {
   "cell_type": "markdown",
   "metadata": {
    "id": "uveXOFydYh7g"
   },
   "source": [
    "## **Problem 6** (5 points)\n",
    "\n",
    "Here is a cubic polynomial with three closely spaced real roots:\n",
    "\n",
    "$$\n",
    "p(x) = 580x^4 - 2320x^3 -1160x^2 + 6960x -1740\n",
    "$$\n",
    "\n",
    "\n",
    "#### (a)\n",
    "Find the exact roots of $p$. _Hint: The polynomial $x^2 - 4x + 1$ divides $p(x)$._"
   ]
  },
  {
   "cell_type": "code",
   "execution_count": null,
   "metadata": {},
   "outputs": [],
   "source": [
    "# Solution for problem 6a\n",
    "#f = p(x)/x**2-4x+1 = 580x^2-1740\n",
    "## finding f  = long division or foil and quadratic formula\n",
    "#f_prime = \n",
    "# derivative = \n",
    "#Newtons method\n",
    "\n"
   ]
  },
  {
   "cell_type": "markdown",
   "metadata": {
    "id": "uveXOFydYh7g"
   },
   "source": [
    "#### (b)\n",
    "Plot $p(x)$ for $-2\\leq x \\leq 4$ and plot the location of the four roots on the graph. "
   ]
  },
  {
   "cell_type": "code",
   "execution_count": 107,
   "metadata": {
    "id": "yDriSGOAYh7g",
    "outputId": "7be02d23-249a-45ca-9458-a31c7104a34f"
   },
   "outputs": [],
   "source": [
    "# Solution for problem 6b\n"
   ]
  },
  {
   "cell_type": "markdown",
   "metadata": {
    "id": "uveXOFydYh7g"
   },
   "source": [
    "#### (c)\n",
    "Starting with $x_{0}=-2$, what does Newton's method do? Based on the shape of $p$, which direction are the \n",
    "guesses moving in?"
   ]
  },
  {
   "cell_type": "code",
   "execution_count": 108,
   "metadata": {
    "id": "3g7zIIFxYh7h",
    "outputId": "c7f7374d-81f2-4794-9d0e-dde5c630963f"
   },
   "outputs": [],
   "source": [
    "# Solution for problem 6c\n"
   ]
  },
  {
   "cell_type": "markdown",
   "metadata": {
    "id": "uveXOFydYh7g"
   },
   "source": [
    "#### (d)\n",
    "Starting with $x_{0}=0.3$ and $x_{1}=0.9$, what does the secant method do?"
   ]
  },
  {
   "cell_type": "code",
   "execution_count": 109,
   "metadata": {
    "id": "eaAH1JP2Yh7i"
   },
   "outputs": [],
   "source": [
    "# Solution to problem 6d\n"
   ]
  },
  {
   "cell_type": "markdown",
   "metadata": {
    "id": "uveXOFydYh7g"
   },
   "source": [
    "#### (e)\n",
    "Starting with the interval $[0.5,2.9]$, what does bisection do?"
   ]
  },
  {
   "cell_type": "code",
   "execution_count": 110,
   "metadata": {
    "id": "IK5TeWfIYh7j"
   },
   "outputs": [],
   "source": [
    "# Solution to problem 6e\n"
   ]
  },
  {
   "cell_type": "markdown",
   "metadata": {
    "id": "_zNA16QtYh7k"
   },
   "source": [
    "## **Problem 7** (4 points) \n",
    "\n",
    "In many cases, getting convergence rates via pen and paper is tricky.  However, we can often readily find them via numerical simulation.  \n",
    "\n",
    "#### a)\n",
    "\n",
    "For \n",
    "$$\n",
    "f(x) = x\\cos(x) - \\sin^{2}(x), \n",
    "$$\n",
    "find and display all the roots in the interval $[0,5]$ using Newton's method with a tolerance of $10^{-6}$. \n",
    "Plot them with large red dots on a graph with $f(x)$ on the desired interval."
   ]
  },
  {
   "cell_type": "code",
   "execution_count": 111,
   "metadata": {
    "id": "boqOdyzbYh7k",
    "outputId": "f26c95fc-580e-48ca-d3a3-3172bda89adc"
   },
   "outputs": [],
   "source": [
    "# Solution for Problem 7a\n"
   ]
  },
  {
   "cell_type": "markdown",
   "metadata": {
    "id": "_zNA16QtYh7k"
   },
   "source": [
    "#### b)\n",
    "\n",
    "For each root, establish that the rate of convergence is quadratic.  Note, to do this, you will need to save the various points generated by Newton's method in an array.  You will need to find the fixed point.  Then, you should note that if \n",
    "$$\n",
    "\\lim_{n\\rightarrow \\infty}\\frac{|x_{n+1}-x_{\\ast}|}{|x_{n}-x_{\\ast}|^{\\alpha}} = \\lambda, \n",
    "$$  \n",
    "then for $n$ large\n",
    "$$\n",
    "\\ln |x_{n+1}-x_{\\ast}| \\sim \\alpha \\ln |x_{n}-x_{\\ast}| + \\ln \\lambda\n",
    "$$\n",
    "So, then you should be thinking about the slope of a line in a log/log plot.  \n",
    "\n",
    "Please provide a well-labeled and well-explained figure describing the rate of convergence for each fixed point.  Does your rate change based on your initial guess?  Again, please elaborate and show plots to make your case."
   ]
  },
  {
   "cell_type": "code",
   "execution_count": 112,
   "metadata": {
    "id": "voz3N8nLYh7k"
   },
   "outputs": [],
   "source": [
    "# Solution for Problem 7b\n",
    "\n",
    "#establish the rate of convergence is quadratic?\n",
    "                #meaning\n",
    "#\n"
   ]
  }
 ],
 "metadata": {
  "colab": {
   "name": "Assignment9_LastName_FirstName_Solution.ipynb",
   "provenance": []
  },
  "kernelspec": {
   "display_name": "Python 3 (ipykernel)",
   "language": "python",
   "name": "python3"
  },
  "language_info": {
   "codemirror_mode": {
    "name": "ipython",
    "version": 3
   },
   "file_extension": ".py",
   "mimetype": "text/x-python",
   "name": "python",
   "nbconvert_exporter": "python",
   "pygments_lexer": "ipython3",
   "version": "3.9.7"
  }
 },
 "nbformat": 4,
 "nbformat_minor": 1
}
