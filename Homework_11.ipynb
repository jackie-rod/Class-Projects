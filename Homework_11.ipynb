{
 "cells": [
  {
   "cell_type": "markdown",
   "metadata": {
    "id": "op_mJFt7S4WG"
   },
   "source": [
    "# Practice
    "\n",
    "\n",
    "#### - This assignment is worth 30 points."
   ]
  },
  {
   "cell_type": "code",
   "execution_count": 36,
   "metadata": {
    "executionInfo": {
     "elapsed": 1512,
     "status": "ok",
     "timestamp": 1636052263033,
     "user": {
      "displayName": "Amanda Lee",
      "photoUrl": "https://lh3.googleusercontent.com/a/default-user=s64",
      "userId": "05953256593132844086"
     },
     "user_tz": 420
    },
    "id": "-Dr6-wPuS4WM"
   },
   "outputs": [],
   "source": [
    "import numpy as np\n",
    "import matplotlib.pyplot as plt\n",
    "import math\n",
    "\n",
    "try:\n",
    "    %matplotlib inline\n",
    "except:\n",
    "    pass\n",
    "\n",
    "from scipy.integrate import quad\n",
    "\n",
    "def trapezoid_method(a,b,n,f):\n",
    "    N = int(n)\n",
    "    xvals = np.linspace(a,b,N+1)\n",
    "    fvals = f(xvals)\n",
    "    dx = (b-a)/N\n",
    "    return dx/2.*(fvals[0] + fvals[N] + 2.*np.sum(fvals[1:N])) \n",
    "\n",
    "def simpson_method(a,b,n,f):\n",
    "    N = int(n)\n",
    "    xvals = np.linspace(a,b,N+1)\n",
    "    fvals = f(xvals)\n",
    "    dx = (b-a)/N\n",
    "    return dx/3.*(fvals[0] + fvals[N] + 2.*np.sum(fvals[2:N-1:2]) + 4.*np.sum(fvals[1:N:2]))\n",
    "\n",
    "def lfun(xvals,ii,x):\n",
    "    lval = np.ones(x.size)\n",
    "    n = xvals.size\n",
    "    for l in range(0,n):\n",
    "        if l != ii:\n",
    "            lval *= (x-xvals[l])/float(xvals[ii]-xvals[l])  \n",
    "    return lval\n",
    "\n",
    "def lagrange_interp(xvals,fvals,x):\n",
    "    n = fvals.size\n",
    "    ipoly = np.zeros(x.size)\n",
    "    for ii in range(0,n):\n",
    "        ipoly += fvals[ii]*lfun(xvals,ii,x)\n",
    "    return ipoly\n",
    "\n",
    "def cheby_nodes(n):\n",
    "    xcheb=np.zeros(n+1)\n",
    "    for jj in range(0,n+1):\n",
    "        xcheb[jj] = np.cos((2.*jj+1.)/(2.*n+2.)*np.pi)\n",
    "    return xcheb"
   ]
  },
  {
   "cell_type": "markdown",
   "metadata": {
    "id": "wPFsZS5PS4WN"
   },
   "source": [
    "### Problem 1 (3 points)\n",
    "Find the Lagrange interpolating polynomial of degree 3 that interpolates the following table of data points:\n",
    "$$\n",
    "\\begin{array}{r|r|r}\n",
    "i & x_{i} & f(x_i)\\\\\n",
    "\\hline\n",
    "0 & 10 & 227.04\\\\\n",
    "1 & 15 & 362.78\\\\\n",
    "2 & 20 & 517.35\\\\\n",
    "3 & 22.5 & 602.97\n",
    "\\end{array}\n",
    "$$\n",
    "You must show your work with $\\LaTeX$ to get full credit. It isn't necessary to completely simplify the polynomial to the most general form of $p(x) = ax^3 + bx^2 + cx +d$ to get full credit."
   ]
  },
  {
   "cell_type": "markdown",
   "metadata": {
    "id": "_n5vTDmUS4WO"
   },
   "source": [
    "## Problem 1 Solution\n"
   ]
  },
  {
   "cell_type": "code",
   "execution_count": 37,
   "metadata": {},
   "outputs": [
    {
     "data": {
      "text/plain": [
       "[<matplotlib.lines.Line2D at 0x7f5050370a90>]"
      ]
     },
     "execution_count": 37,
     "metadata": {},
     "output_type": "execute_result"
    },
    {
     "data": {
      "image/png": "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\n",
      "text/plain": [
       "<Figure size 432x288 with 1 Axes>"
      ]
     },
     "metadata": {
      "needs_background": "light"
     },
     "output_type": "display_data"
    }
   ],
   "source": [
    "xvals = np.array([10.,15.,20.,22.5])\n",
    "fvals = np.array([227.04,362.78,517.35,602.97], float)\n",
    "xinterp = np.linspace(0,3.,int(10e3))\n",
    "yinterp = lagrange_interp(xvals,fvals,xinterp)\n",
    "plt.plot(xinterp,yinterp)\n",
    "plt.plot(xvals,fvals)"
   ]
  },
  {
   "cell_type": "markdown",
   "metadata": {
    "id": "0ebXByTOS4WR"
   },
   "source": [
    "#### Problem 2 (6 points): \n",
    "\n",
    "Let $K$ be the maximum value of $\\left \\lvert f^{(4)}(x)\\right\\rvert$ on an interval $[a,b]$, then the error bound for Simpson method $E_S$ is: \n",
    "\n",
    "$$E_S = \\left\\lvert \\int_a^b f(x) \\ dx - S_n  \\right\\rvert \\leq \\frac{(b-a)^5 K }{180 \\ n^4}$$\n",
    "\n",
    "Let $f(x) = \\cos(x-x^2)$, \n",
    "\n",
    "##### (a) \n",
    "\n",
    "Write down an expression for $f^{(4)}(x)$ (you are **not** required to show work).  Note that $f^{(4)}(x)$ represents the fourth derivative of the function $f(x)$."
   ]
  },
  {
   "cell_type": "markdown",
   "metadata": {},
   "source": [
    "## 2(a) Solution\n"
   ]
  },
  {
   "cell_type": "code",
   "execution_count": 38,
   "metadata": {},
   "outputs": [],
   "source": [
    "f = lambda x: -12*(1-2*x)**2*np.sin(x-x**2)+(1-2*x)**4*np.cos((x-1)*x)-12*np.cos((x-1)*x)"
   ]
  },
  {
   "cell_type": "markdown",
   "metadata": {
    "id": "0ebXByTOS4WR"
   },
   "source": [
    "##### (b) \n",
    "\n",
    "Write a program to compute the maximum value of $\\left \\lvert f^{(4)}(x)\\right\\rvert$ on the interval $[0,1]$. What is the maximum value?"
   ]
  },
  {
   "cell_type": "markdown",
   "metadata": {
    "colab": {
     "base_uri": "https://localhost:8080/"
    },
    "executionInfo": {
     "elapsed": 223,
     "status": "ok",
     "timestamp": 1636053479357,
     "user": {
      "displayName": "Amanda Lee",
      "photoUrl": "https://lh3.googleusercontent.com/a/default-user=s64",
      "userId": "05953256593132844086"
     },
     "user_tz": 420
    },
    "id": "tRuFq9zrS4WT",
    "outputId": "9c34873d-c45f-489b-b92d-837faf53930d"
   },
   "source": [
    "## 2(b) Solution\n"
   ]
  },
  {
   "cell_type": "code",
   "execution_count": 39,
   "metadata": {},
   "outputs": [
    {
     "data": {
      "text/plain": [
       "12.407037397155586"
      ]
     },
     "execution_count": 39,
     "metadata": {},
     "output_type": "execute_result"
    }
   ],
   "source": [
    "x = np.arange(0.0, 1.0, 0.1)\n",
    "\n",
    "def findMax(x):\n",
    "    max_value = float(\"-inf\")\n",
    "    for i in x:\n",
    "        res = abs(f(i))\n",
    "        if max_value < res: max_value = res\n",
    "    return(max_value)\n",
    "\n",
    "findMax(x)\n"
   ]
  },
  {
   "cell_type": "markdown",
   "metadata": {
    "id": "0ebXByTOS4WR"
   },
   "source": [
    "##### 2(c) \n",
    "\n",
    "How large must the value of $n$ be in the approximation $S_n$ of $\\int_0^1 f(x) \\ dx$ by Simpson's rule to ensure that the absolute error is less than $10^{-4}$?"
   ]
  },
  {
   "cell_type": "markdown",
   "metadata": {
    "id": "_ugf12IRS4WU"
   },
   "source": [
    "## 2(c) Solution\n"
   ]
  },
  {
   "cell_type": "markdown",
   "metadata": {},
   "source": [
    "approximately 1"
   ]
  },
  {
   "cell_type": "markdown",
   "metadata": {
    "id": "0ebXByTOS4WR"
   },
   "source": [
    "##### (d) \n",
    "\n",
    "Write a program to compute the integral $\\int_0^1 f(x) \\ dx$  using Simpson's method with the value of $n$ obtained in part (c)."
   ]
  },
  {
   "cell_type": "markdown",
   "metadata": {
    "id": "cHLEZCvJS4WV",
    "outputId": "7226d9d1-93ee-4605-fe8d-774d9a20b7c7"
   },
   "source": [
    "## 2(d) Solution\n"
   ]
  },
  {
   "cell_type": "code",
   "execution_count": 40,
   "metadata": {},
   "outputs": [
    {
     "name": "stdout",
     "output_type": "stream",
     "text": [
      "0.9833829851604703\n"
     ]
    }
   ],
   "source": [
    "a = 0\n",
    "b = 1\n",
    "n = 8\n",
    "f = lambda x: np.cos(x-x**2)\n",
    "simpsons = simpson_method(a,b,n,f)\n",
    "print(simpsons)"
   ]
  },
  {
   "cell_type": "markdown",
   "metadata": {
    "id": "0ebXByTOS4WR"
   },
   "source": [
    "##### (e) \n",
    "\n",
    "Use the `quad` function from `scipy` to obtain an \"exact\" solution for $\\int_0^1 f(x) \\ dx$."
   ]
  },
  {
   "cell_type": "markdown",
   "metadata": {
    "id": "w3n6uRbPS4WV",
    "outputId": "2d2c70ef-0d6f-428e-df4a-ef9aee6119cb"
   },
   "source": [
    "## 2(e) Solution\n"
   ]
  },
  {
   "cell_type": "code",
   "execution_count": 41,
   "metadata": {},
   "outputs": [
    {
     "data": {
      "text/plain": [
       "(0.9833993553876421, 1.0917926067528972e-14)"
      ]
     },
     "execution_count": 41,
     "metadata": {},
     "output_type": "execute_result"
    }
   ],
   "source": [
    "quad(f,a,b)"
   ]
  },
  {
   "cell_type": "markdown",
   "metadata": {
    "id": "0ebXByTOS4WR"
   },
   "source": [
    "## 2(f) Solution \n",
    "\n",
    "Compare the \"exact\" solution from part (d) to the computed solution from part (c). Does it agree with your estimates in part (c)? How many decimals of precision does your solution from (c) have?"
   ]
  },
  {
   "cell_type": "markdown",
   "metadata": {
    "id": "bewQerZjS4WW",
    "outputId": "3334eca1-4fcd-4eb2-8799-6b0b4a0bc805"
   },
   "source": [
    "##### Part d solution differs from part e and is accurate for about 5 decimal places. The error is about 1e-5.\n"
   ]
  },
  {
   "cell_type": "code",
   "execution_count": null,
   "metadata": {},
   "outputs": [],
   "source": []
  },
  {
   "cell_type": "markdown",
   "metadata": {
    "id": "d6Cz9asUS4Wa"
   },
   "source": [
    "#### Problem 3 (6 points)\n",
    "\n",
    "Assuming that $f(x)$ is given as follows:\n",
    "$$\n",
    "f(x) = \\frac{7x}{2x^{2} + 1}, ~ -1 \\leq x \\leq 1\n",
    "$$\n",
    "\n",
    "##### (a)  \n",
    "\n",
    "Using an equispaced set of $25$ nodes, generate the Lagrange interpolating polynomial to $f(x)$ and use it to interpolate `x = np.linspace(-1,1,2000)`. \n",
    "\n",
    "Generate a plot which shows how the error in your approximation varies over the interval $[-1,1]$."
   ]
  },
  {
   "cell_type": "markdown",
   "metadata": {
    "id": "ekfH6VIUS4Wb",
    "outputId": "9b78f4ff-82a7-48e2-c8e8-64b7c5d84fe2"
   },
   "source": [
    "## 3(a) Solution\n"
   ]
  },
  {
   "cell_type": "code",
   "execution_count": 67,
   "metadata": {},
   "outputs": [
    {
     "data": {
      "text/plain": [
       "[<matplotlib.lines.Line2D at 0x7f505088b820>]"
      ]
     },
     "execution_count": 67,
     "metadata": {},
     "output_type": "execute_result"
    },
    {
     "data": {
      "image/png": "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\n",
      "text/plain": [
       "<Figure size 432x288 with 1 Axes>"
      ]
     },
     "metadata": {
      "needs_background": "light"
     },
     "output_type": "display_data"
    }
   ],
   "source": [
    "# f = lambda x: (7*x)/(2*x*x+1)\n",
    "# xvals = np.linspace(-1,1,25);\n",
    "# fvals = f(xvals)\n",
    "# xinterp = np.linspace(-1,1,2000)\n",
    "# yinterp = lagrange_interp(xvals,fvals,xinterp);\n",
    "\n",
    "\n",
    "# plt.plot(xinterp,yinterp)\n",
    "\n",
    "\n",
    "from scipy.interpolate import lagrange\n",
    "\n",
    "\n",
    "f = lambda x: x/(2*x**2 + 1)\n",
    "xvals = np.linspace(-1,1,250)\n",
    "yvals = f(xvals)\n",
    "interp = lagrange(xvals, yvals)\n",
    "x = np.linspace(-1,1,2000)\n",
    "yinterp = interp(x)\n",
    "\n",
    "plt.plot(x,yinterp,label=\"Equispaced\")"
   ]
  },
  {
   "cell_type": "markdown",
   "metadata": {
    "id": "d6Cz9asUS4Wa"
   },
   "source": [
    "##### (b)\n",
    "\n",
    "What is the degree of the Lagrange interpolating polynomial in part (a)."
   ]
  },
  {
   "cell_type": "markdown",
   "metadata": {
    "id": "sC45p5MXS4Wc"
   },
   "source": [
    "### 3(b) Solution\n"
   ]
  },
  {
   "cell_type": "code",
   "execution_count": 43,
   "metadata": {},
   "outputs": [
    {
     "data": {
      "text/plain": [
       "3"
      ]
     },
     "execution_count": 43,
     "metadata": {},
     "output_type": "execute_result"
    }
   ],
   "source": [
    "3"
   ]
  },
  {
   "cell_type": "markdown",
   "metadata": {
    "id": "d6Cz9asUS4Wa"
   },
   "source": [
    "##### (c)\n",
    "\n",
    "Compare the graph of f(x) with that of the of the Lagrange interpolating polynomial from part (a) for `x = np.linspace(-1,1,2000)` by plotting both graphs on the same figure."
   ]
  },
  {
   "cell_type": "markdown",
   "metadata": {
    "id": "Js4xlCYPS4Wc",
    "outputId": "1ddcde6a-675a-4c1e-a41f-cce4914b2c00"
   },
   "source": [
    "## 3(c) Solution\n"
   ]
  },
  {
   "cell_type": "code",
   "execution_count": 68,
   "metadata": {},
   "outputs": [
    {
     "data": {
      "text/plain": [
       "[<matplotlib.lines.Line2D at 0x7f5050a272e0>]"
      ]
     },
     "execution_count": 68,
     "metadata": {},
     "output_type": "execute_result"
    },
    {
     "data": {
      "image/png": "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\n",
      "text/plain": [
       "<Figure size 432x288 with 1 Axes>"
      ]
     },
     "metadata": {
      "needs_background": "light"
     },
     "output_type": "display_data"
    }
   ],
   "source": [
    "plt.plot(xinterp,yinterp)\n",
    "xvals = np.linspace(-1,1,2000);\n",
    "\n",
    "plt.plot(xvals,f(x))\n",
    "plt.plot(x,yinterp,label=\"Equispaced\")"
   ]
  },
  {
   "cell_type": "markdown",
   "metadata": {
    "id": "d6Cz9asUS4Wa"
   },
   "source": [
    "##### (d)  \n",
    "\n",
    "Using an equispaced set of $250$ nodes, generate the Lagrange interpolating polynomial to $f(x)$ and use it to interpolate `x = np.linspace(-1,1,2000)`.  \n",
    "Generate a plot which shows how the error in your approximation varies over the interval.  "
   ]
  },
  {
   "cell_type": "markdown",
   "metadata": {
    "id": "lbxbwUEhS4Wc",
    "outputId": "1f976d7f-dfc2-40ca-8494-7caf2576099c"
   },
   "source": [
    "## 3(d) Solution\n"
   ]
  },
  {
   "cell_type": "code",
   "execution_count": 72,
   "metadata": {},
   "outputs": [
    {
     "data": {
      "text/plain": [
       "<matplotlib.legend.Legend at 0x7f50503e02b0>"
      ]
     },
     "execution_count": 72,
     "metadata": {},
     "output_type": "execute_result"
    },
    {
     "data": {
      "image/png": "iVBORw0KGgoAAAANSUhEUgAAAXIAAAEDCAYAAAAoWo9tAAAAOXRFWHRTb2Z0d2FyZQBNYXRwbG90bGliIHZlcnNpb24zLjUuMSwgaHR0cHM6Ly9tYXRwbG90bGliLm9yZy/YYfK9AAAACXBIWXMAAAsTAAALEwEAmpwYAAAR3UlEQVR4nO3de6wc5X3G8eexjY0KabGxCVdjaCgXEQrJKaGNFK4KBCpMCjRGTQMNkUNaqKo2SqFum6hRVJo0oq2SlliIkqQI0lIh3ATCJYDoHxAwFXdiMCYkdiCcQICiFOPLr3/srHc4u3vO7tmZ3f3h70c6Orszs+/8/O762TnvvrPjiBAAIK85oy4AADAYghwAkiPIASA5ghwAkiPIASA5ghwAkhtZkNu+2vaLth/rYdsLbE/afqj4+URp3bbS8jX1Vg0A48ejmkdu+wOSXpf0jYg4coZtL5A0EREXd1j3ekTsXk+VADD+RnZEHhH3SHq5vMz2r9r+ru0Hbf+37cNGVB4ApDFuY+SrJV0SEe+V9GlJ/1xad7btR2zfYPuA0vJdba+1fZ/ts4ZZLACMg5ENrUiS7WWSvh0RR9reXdKkpHWlTRZExOG295T0ekRstv1JSR+JiJOKNvaLiE22D5Z0p6STI+KZIf9TAGBk5o26gJI5kl6JiKOnroiIl0p3r5L0xdK6TcXvDbbvlnSMJIIcwE5jbIZWIuI1Sc/aPleS3PDrxe19SpueKenJYvlC2wuK24slvV/SE0MtHABGbGRH5Lavk3SCpMW2N0r6rKTfk/Qvtv9S0i6Srpf0sKQ/tn2mpK1qfEB6QdHM4ZK+Znu7Gm9Kl0cEQQ5gpzLSMXIAwODGZmgFADA7IxlaWbx4cSxbtmwUuwaAtB588MGfRcSSqctHEuTLli3T2rVrR7FrAEjL9nOdljO0AgDJEeQAkBxBDgDJEeQAkBxBDgDJEeQAkBxBDgDJVRLk/Vy2DQB2Rg/88GWte+F/a2m7qiPyaySdVlFbAPC2c+6V9+rUf7inlrYrCfJOl20DAAwHY+QAkNzQgtz2yuLammsnJyeHtVsAeNsbWpBHxOqImIiIiSVL2r68CwAwSwytAEByVU0/vE7SvZIOtb3R9oVVtAsAmFkl30ceEedV0Q4AoH8MrQBAcgQ5ACRHkANAcgQ5ACRHkANAcgQ5ACRHkANAcgQ5ACRHkANAcgQ5ACRHkANAcgQ5ACRHkANAcgQ5ACRHkANAcgQ5ACRHkANAcgQ5ACRHkANAcgQ5ACRHkANAcgQ5ACRHkANAcumC/P/e3KbX3tgy6jIAYGykC/KTvny3jvrcbaMuAwDGRrogf/7VN0ZdAgCMlXRBDgB4K4IcAJIjyAEgOYIcAJJLG+TbtseoSwCAnry5dXut7acN8ro7BgCqcu+Gl2ptv5Igt32a7XW219u+tIo2Z0KQA8hi2/YxPyK3PVfSVyV9SNIRks6zfcSg7c5k89Ztde8CACpx/7M/r7X9eRW0cayk9RGxQZJsXy9puaQnKmj7LR64cqWun/+IJGnD339eP5pjWa56N8DbWExzr6pWq33g7Npuf1RP7cxiZ7085ARJJ8xv3P7J9bdp3xX/2P+OplFFkO8n6cel+xslvW/qRrZXSlopSUuXLp3VjrZs3b7jT4i5c6xFu82fVTsAWjofCrmXjfrdZNba2q5oZ7M6EOzwkOla2bY99MJrrTPS65inUUWQ9yQiVktaLUkTExOz+qfcsv+f6Jsbn9Mph++lq87/jUrrA4C67L1lmw77q+9Kkr7+3mO1f8XtV/Fh5yZJB5Tu718sq5yLt705ZjgFQB67zG1FbR3pVUWQPyDpENsH2Z4vaYWkNRW029XcOQQ5gDzqjqyBh1YiYqvtiyXdKmmupKsj4vGBK+ug2RdzCHIAibg0ilDHgEIlY+QRcbOkm6toqxdzGVoBkMyxBy3S/c++XEvbqc7sbL6rMbQCAC2pgryJDzsBZFXHuS8pg3xuyqoBoB4pI5GhFQBZ1TGgkCrImx1ghlYAJFNnaqUK8iZmrQDIps4rKKQK8uaHBAytAMhqXM/sHDpmrQBAS6ogb+Y3s1YApLWzf9jZxCn6ANCSMsh3mZOybADghKBtxTey77pLqrIBgOmHTW9saVync9dd5o64EgDoD9MPC5u3Nq5EvYAgB4AdkgV544h8wbxUZQNArVIlYhR/mzCPHABaUgU5+Q0gKz7sBAB0lTLIOTAHgJaUQQ4A2TD9sFDHGVEAkF2qIAeArPiwcwpmrwBAS8ogBwC0EOQAkFzKIGdoBQBacgU5AQ4gKaYfAgC6IsgBYAiYfjgFJwYBQEuqICe+AaDdQEFu+1zbj9vebnuiqqIAAL0b9Ij8MUm/I+meCmrpGdMPAaBl3iAPjognJckkKwCMzNDGyG2vtL3W9trJycnZtlFxVQCQ34xH5LbvkLR3h1WrIuKmXncUEaslrZakiYmJOufGA8BOZcYgj4hThlEIAGB2Uk0/BAC0G3T64Ydtb5T0m5K+Y/vWasoCAPRq0FkrN0q6saJaAACzkGpohTkrALKLGr4HMVWQNwVzXgBgh5RBDgBZ1fGlfwQ5ACSXKsg5sRMA2qUKcgDIjg87AQBtUgZ5He9oAJBVyiAHALQQ5AAwRDv99EMmrQDIjg87C5zZCQAtKYMcANBCkANAcqmCnGt2AkC7VEEOAGhHkAPAEO300w+bmLUCIKudfvohI+QA0C5VkAMA2hHkAJBcyiBniBwAWlIGOQBkU+dpMAQ5AAxBnbPtcgU501YAoE2uIC8EE8kBYIeUQQ4AaCHIASC5VEFex3cUAEB2qYIcALJi+iEAJDe20w9tf8n2D2w/YvtG23tUVNe0mLMCAC2DHpHfLunIiDhK0lOSLhu8pO52/GlCkgPADgMFeUTcFhFbi7v3Sdp/8JIAAP2ocoz845Ju6bbS9krba22vnZycrHC3ADD+6vywc97MO/cdkvbusGpVRNxUbLNK0lZJ13ZrJyJWS1otSRMTEwyOAEBFZgzyiDhluvW2L5D025JOjprPnWcWOQC0mzHIp2P7NEmfkXR8RPyimpIA4O1nbKcfSvqKpHdIut32Q7avrKCmGdVx8VIAyGqgI/KIeFdVhQDA2xlndgIAukoV5HW+owFAVqmCvInrSgBAS8ogBwC0EOQAkFyqIOfCEgDQLlWQAwDaEeQAMAS/f9wySdIhe72j8rYHOiFoVJi0AiCbM47aR2ccdUYtbac6ImceOQC0SxXkAIB2BDkAJJcyyDmzEwBaUgY5AKCFIAeA5FIFObNWAKBdqiBv4gpBANCSMsgBAC0EOQAklyzIGSQHgKmSBTkAYCqCHACSSxnknNkJAC2pgpx55ADQLlWQAwDaEeQAkFzKIGeIHABaUgY5AKCFIAeA5FIFOZNWAKBdqiDfgYnkALBDziAHAOwwUJDb/rztR2w/ZPs22/tWVRgAoDeDHpF/KSKOioijJX1b0l8PXlJ3nNkJAO0GCvKIeK10dzcxxRsAhm7eoA3Y/oKkj0l6VdKJ02y3UtJKSVq6dOmguwUAFGY8Ird9h+3HOvwsl6SIWBURB0i6VtLF3dqJiNURMRERE0uWLBmoaA77AaBlxiPyiDilx7aulXSzpM8OVBEAoC+Dzlo5pHR3uaQfDFYOAKBfg46RX277UEnbJT0n6aLBS+rOnNsJAG0GCvKIOLuqQvrb7yj2CgDjiTM7ASA5ghwAkksV5JzZCQDtUgU5AKAdQQ4AyaUM8mDaCgDskCrIGSIHgHapghwA0I4gB4DkUgY5I+QA0JIyyAEALQQ5ACSXKsjNqZ0A0CZVkDcxjRwAWlIGOQCghSAHgOQIcgBIjiAHgOQIcgBILmWQM2kFAFpSBTnTyAGgXaogBwC0I8gBILmUQc4VggCgJWWQAwBaCHIASC5VkJurdgJAm1RBPn9eo9x5cwh0AGiaN+oC+nHJSe9SROi89y0ddSkAMDZSBfluC+bpstMPH3UZADBWUg2tAADaVRLktv/MdtheXEV7AIDeDRzktg+Q9EFJPxq8HABAv6o4Ir9C0mfElxICwEgMFOS2l0vaFBEP97DtSttrba+dnJwcZLcAgJIZZ63YvkPS3h1WrZL0F2oMq8woIlZLWi1JExMTHL0DQEVmDPKIOKXTctvvlnSQpIfd+KLw/SX9j+1jI+KFSqsEAHQ163nkEfGopL2a923/UNJERPysgroAAD1yVV8J20+Q256U9Nwsd7VY0ji+WVBXf6irP9TVn3GtSxqstgMjYsnUhZUF+bDYXhsRE6OuYyrq6g919Ye6+jOudUn11MaZnQCQHEEOAMllDPLVoy6gC+rqD3X1h7r6M651STXUlm6MHADwVhmPyAEAJQQ5ACQ3lkFu+1zbj9vebrvrNB3bp9leZ3u97UtLyw+y/f1i+bdsz6+orkW2b7f9dPF7YYdtTrT9UOnnDdtnFeuusf1sad3Rw6qr2G5bad9rSstH2V9H2763eL4fsf2R0rpK+6vb66W0fkHx719f9Mey0rrLiuXrbJ86SB2zqOtPbT9R9M/3bB9YWtfxOR1SXRfYnizt/xOldecXz/vTts8fcl1XlGp6yvYrpXV19tfVtl+0/ViX9bb9T0Xdj9h+T2ndYP0VEWP3I+lwSYdKuluNk4w6bTNX0jOSDpY0X9LDko4o1v27pBXF7Sslfaqiur4o6dLi9qWS/m6G7RdJelnSLxX3r5F0Tg391VNdkl7vsnxk/SXp1yQdUtzeV9Lzkvaour+me72UtvlDSVcWt1dI+lZx+4hi+wVqfC3FM5LmDrGuE0uvoU8165ruOR1SXRdI+kqHxy6StKH4vbC4vXBYdU3Z/hJJV9fdX0XbH5D0HkmPdVl/uqRbJFnScZK+X1V/jeUReUQ8GRHrZtjsWEnrI2JDRLwp6XpJy21b0kmSbii2+7qksyoqbXnRXq/tniPploj4RUX776bfunYYdX9FxFMR8XRx+yeSXpTUduZaBTq+Xqap9wZJJxf9s1zS9RGxOSKelbS+aG8odUXEXaXX0H1qfK9R3Xrpr25OlXR7RLwcET+XdLuk00ZU13mSrqto39OKiHvUOHDrZrmkb0TDfZL2sL2PKuivsQzyHu0n6cel+xuLZXtKeiUitk5ZXoV3RsTzxe0XJL1zhu1XqP1F9IXiz6orbC8Ycl27uvFVwvc1h3s0Rv1l+1g1jrKeKS2uqr+6vV46blP0x6tq9E8vj62zrrIL1Tiqa+r0nA6zrrOL5+cGNy4y089j66xLxRDUQZLuLC2uq7960a32gftrZBdf9jRfjxsRNw27nqbp6irfiYiw3XXuZvFO+25Jt5YWX6ZGoM1XYy7pn0v6myHWdWBEbLJ9sKQ7bT+qRljNWsX99U1J50fE9mLxrPvr7cj2RyVNSDq+tLjtOY2IZzq3ULn/knRdRGy2/Uk1/po5aUj77sUKSTdExLbSslH2V21GFuTR5etx+7BJ0gGl+/sXy15S40+WecVRVXP5wHXZ/qntfSLi+SJ4Xpymqd+VdGNEbCm13Tw63Wz7XyV9eph1RcSm4vcG23dLOkbSf2rE/WX7lyV9R4038ftKbc+6vzro9nrptM1G2/Mk/Yoar6deHltnXbJ9ihpvjsdHxObm8i7PaRXBNGNdEfFS6e5Vanwm0nzsCVMee3cFNfVUV8kKSX9UXlBjf/WiW+0D91fmoZUHJB3ixoyL+Wo8aWui8enBXWqMT0vS+ZKqOsJfU7TXS7ttY3NFmDXHpc+S1PHT7Trqsr2wOTThxkWy3y/piVH3V/Hc3ajG2OENU9ZV2V8dXy/T1HuOpDuL/lkjaYUbs1oOknSIpPsHqKWvumwfI+lrks6MiBdLyzs+p0Osa5/S3TMlPVncvlXSB4v6Fqpx8ZnyX6a11lXUdpgaHxzeW1pWZ3/1Yo2kjxWzV46T9GpxsDJ4f9X1Ce4gP5I+rMY40WZJP5V0a7F8X0k3l7Y7XdJTaryjriotP1iN/2jrJf2HpAUV1bWnpO9JelrSHZIWFcsnJF1V2m6ZGu+yc6Y8/k5Jj6oRSP8mafdh1SXpt4p9P1z8vnAc+kvSRyVtkfRQ6efoOvqr0+tFjaGaM4vbuxb//vVFfxxceuyq4nHrJH2o4tf7THXdUfw/aPbPmpme0yHV9beSHi/2f5ekw0qP/XjRj+sl/cEw6yruf07S5VMeV3d/XafGrKstauTXhZIuknRRsd6SvlrU/ahKM/IG7S9O0QeA5DIPrQAARJADQHoEOQAkR5ADQHIEOQAkR5ADQHIEOQAk9//s7c82BazDXAAAAABJRU5ErkJggg==\n",
      "text/plain": [
       "<Figure size 432x288 with 1 Axes>"
      ]
     },
     "metadata": {
      "needs_background": "light"
     },
     "output_type": "display_data"
    },
    {
     "data": {
      "image/png": "iVBORw0KGgoAAAANSUhEUgAAAmMAAAG0CAYAAAB+GyB3AAAAOXRFWHRTb2Z0d2FyZQBNYXRwbG90bGliIHZlcnNpb24zLjUuMSwgaHR0cHM6Ly9tYXRwbG90bGliLm9yZy/YYfK9AAAACXBIWXMAAAsTAAALEwEAmpwYAAAju0lEQVR4nO3de7hkVX0n/O+P7qbbCIhyUQRio4MgkXuTkJAoBpJgYppkAiMGn2DQMGpikseZzKgkryRm3vGSmJE3F4egRiNRJzpEvOT1CuFNFCeNclEuCoraiNCiIq3h0rLeP051e8CuPgc5VatO1efzPOepqr137fNbtbp6f8/aq3ZVay0AAPSxU+8CAABmmTAGANCRMAYA0JEwBgDQkTAGANCRMAYA0NGyDmNV9caquq2qPr2IbZ9TVZuq6orBz/PmrfvuvOUXjbZqAIDvqeV8nbGqekqSzUne0lp78gLbPifJutbab21n3ebW2i6jqRIAYLhlPTLWWrs0ydfnL6uqJ1TV/1tVl1fV/1dVB3cqDwBgQcs6jA1xXpIXtdaOTvKfk/zlvHW/UlVXVdU7q2r/ecvXVNWGqrqsqn5pnMUCALNtWZ+mTJKqWpvkva21J1fVLkk2Jbl+3iarW2tPqqo9kmxurd1dVf8xyTNbaz892Me+rbWbq+rxST6a5ITW2o1jbgoAMINW9i5gie2U5JuttSMeuKK1dvu8h+cnefW8dTcPbj9fVZckOTKJMAYAjNxUnaZsrX0ryReq6tQkqTmHD+7vM2/T9UmuHSx/ZFWtHtzfM8lxSa4Za+EAwMxa1iNjVfW2JMcn2bOqNiZ5eZLTk/xVVf1+klVJ3p7kyiS/XVXrk2zJ3KT/5wx286Qk/7Oq7stcOH1la00YAwDGYtnPGQMAWM6m6jQlAMBys2xPU+65555t7dq1vcsAAFjQ5Zdf/rXW2l7bW7dsw9jatWuzYcOG3mUAACyoqr44bJ3TlAAAHQljAAAdCWMAAB0t2zlj23Pvvfdm48aNueuuu3qXsuysWbMm++23X1atWtW7FACYKVMVxjZu3Jhdd901a9euTVX1LmfZaK3l9ttvz8aNG3PAAQf0LgcAZspUnaa86667ssceewhiD1JVZY899jCiCAAdTFUYSyKI/YC8bgDQx9SFMQCA5UQYW2K77LJL7xIAgGVEGJtQW7Zs6V0CADAGwtiIbN68OSeccEKOOuqoHHrooXn3u9+9bd0rXvGKHHTQQfnJn/zJPOtZz8qf/MmfJEmOP/74/O7v/m7WrVuX173udXnPe96TH/uxH8uRRx6ZE088MbfeemuS5JxzzsmZZ56Z448/Po9//ONz7rnnLrjvG2+8MSeddFKOPvro/NRP/VSuu+66Mb4aAMAwU3Vpi/n+8D2fyTVf+daS7vOQx+6Wl//ijyxq2zVr1uTCCy/Mbrvtlq997Ws59thjs379+mzYsCHvete7cuWVV+bee+/NUUcdlaOPPnrb8+65555t37n5jW98I5dddlmqKueff35e/epX50//9E+TJNddd10uvvji3HnnnTnooIPyghe8IFdcccXQfZ911ll5/etfnwMPPDCf+MQn8sIXvjAf/ehHl/T1AQAevKkNY7211vKyl70sl156aXbaaafcfPPNufXWW/Mv//IvOfnkk7NmzZqsWbMmv/iLv3i/5z3zmc/cdn/jxo155jOfmVtuuSX33HPP/a4B9gu/8AtZvXp1Vq9enb333nuH+968eXM+9rGP5dRTT932/LvvvnvErwAAsBhTG8YWO4I1KhdccEE2bdqUyy+/PKtWrcratWsXdR2vhz/84dvuv+hFL8qLX/zirF+/PpdccknOOeecbetWr1697f6KFSt2OMfsvvvuy+67754rrrjiB2oLADA65oyNyB133JG99947q1atysUXX5wvfvGLSZLjjjsu73nPe3LXXXdl8+bNee9737vDfey7775Jkje/+c0L/s5h+95tt91ywAEH5O///u+TzI3aXXnllQ+1iQCwrN3xb/f2LiGJMDYyp59+ejZs2JBDDz00b3nLW3LwwQcnSY455pisX78+hx12WJ7+9Kfn0EMPzSMe8Yjt7uOcc87JqaeemqOPPjp77rnngr9zR/u+4IIL8oY3vCGHH354fuRHfuR+HygAgFlzzVe+lcP/8IO58FMbe5eSaq31ruEHsm7durZ1ovtW1157bZ70pCd1qmjxNm/enF122SXf+c538pSnPCXnnXdejjrqqO77Xi6vHwA8VP/7kxvz4v91ZX75yH3zZ888YuS/r6oub62t2966iZkzVlVvTPKMJLe11p7cu55ROuuss3LNNdfkrrvuyhlnnLFkQWzU+waAaTMJg1ITE8aS/E2SP0/yls51jNzf/d3fLct9A8C0mKSvZJ6YOWOttUuTfL13HQDA9JuAAbFtJiaMLUZVnVVVG6pqw6ZNm3qXAwAsczUBQ2TLKoy11s5rra1rra3ba6+9epcDAPCQLaswBgCwlCZhAr8w1tnznve8XHPNNTvc5h/+4R8W3AYAWLwJODu5zcSEsap6W5KPJzmoqjZW1XPH8ovv/Grypqcnd946ll/3QOeff34OOeSQHW4jjAHA9JqYMNZae1ZrbZ/W2qrW2n6ttTeM5Rf/06uTL12W/NOrlmR3N910Uw4++OCcfvrpedKTnpRTTjkl3/nOd/KRj3wkRx55ZA499NCceeaZ276o+/jjj8/Wi9fusssuOfvss3P44Yfn2GOPza233pqPfexjueiii/J7v/d7OeKII3LjjTfm3HPPzSGHHJLDDjssp5122pLUDQD0MTFhbOz+eO/knEckG96QtPvmbs95xNzyh+j666/PC1/4wlx77bXZbbfd8trXvjbPec5z8o53vCNXX311tmzZkr/6q7/6vud9+9vfzrHHHpsrr7wyT3nKU/LXf/3X+Ymf+ImsX78+r3nNa3LFFVfkCU94Ql75ylfmU5/6VK666qq8/vWvf8j1AgD9zG4Y+52rkiefmqx82NzjlQ9LDj01+Z2rH/Ku999//xx33HFJkmc/+9n5yEc+kgMOOCBPfOITkyRnnHFGLr300u973s4775xnPOMZSZKjjz46N91003b3f9hhh+X000/PW9/61qxcOUnX7QWA5aX/9P1ZDmO7PiZZvWvy3buTlWvmblfvluz66Ie86wdes2T33Xdf1PNWrVq17bkrVqzIli1btrvd+973vvzmb/5mPvnJT+aYY44Zuh0AsH2VyZnBP7thLEm+fVty9K8nz/vw3O3mpZnE/6UvfSkf//jHk8x9PdG6dety00035YYbbkiS/O3f/m2e+tSnLnp/u+66a+68884kyX333Zcvf/nLedrTnpZXvepVueOOO7J58+YlqRsAZkWbiDGxObN9juu0C753/xmvXbLdHnTQQfmLv/iLnHnmmTnkkENy7rnn5thjj82pp56aLVu25Jhjjsnzn//8xZd52mn5jd/4jZx77rl5+9vfnuc+97m544470lrLb//2by965A0AuL9JGB+b7TA2IitXrsxb3/rW+y074YQT8qlPfer7tr3kkku23Z8/wnXKKafklFNOSZIcd9xx97u0xT//8z8vccUAQC+zfZoSAJhpk3CyUhhbYmvXrs2nP/3p3mUAADtgAv8ITcJ3TC1HXjcA6GOqwtiaNWty++23CxYPUmstt99+e9asWdO7FACYOVM1gX+//fbLxo0bs2nTpt6lLDtr1qzJfvvt17sMAJg5UxXGVq1alQMOOKB3GQDAMjEJJ9Om6jQlAMBi1OTM3xfGAIDZMwkjYlsJYwDAzJqEETJhDACYWZMwQiaMAQAzZxJGxLYSxgAAOhLGAAA6EsYAADoSxgCAmTUB8/eFMQCAnoQxAICOhDEAgI6EMQBgZk3C5caEMQBgZpnADwAw44QxAICOhDEAgI6EMQCAjoQxAGBmtdZ/Cr8wBgDMnKpJuKjFHGEMAJg5kzAitpUwBgDQkTAGAMysSThdKYwBADNrEk5XCmMAwMyZhBGxrYQxAICOhDEAgI6EMQCAjoQxAGBm9Z++L4wBAHQljAEAM2cSLmmxlTAGAMysSbjAhTAGAMycCRoYE8YW8nef+FKu+PI3e5cBAIzAJGSylb0LmHQvu/DqJMlNr/yFzpUAAEulTUQMm2NkDACYOU5TAgB0JIwBAEyCCQhlwhgAMHMmIINtI4wBADPHRV8BADqanCgmjO3QJKVmAGAJbT3ET8Al+IWxHZDFAGDKTcCxXhjbge9KYwAwlVz0dZn47n2T01EAwNK55Y67epewjTC2A/cZGQOAqfQ/Pvy53iVsI4ztgJExAGDUhLEdkMUAYLpNwtwxYWwH7pPGAIARm5gwVlUnVdX1VXVDVb2kdz2586t5+NvW5+B8Me/Y+Y+SW65O3vT04bd33prc+dUdb7PcbqexTdq2vG+1bXneTmPbprFNM9a2rcf3x/7bjd9b10lNwoVNq2pFks8m+ZkkG5P8a5JntdauGfacdevWtQ0bNoyuqPe+OG3Dm/LZ+/bJgfWV1F4HpW7/bLLnE5Ovbef26F+fe97lbxq+zXK7ncY2advyvtW25Xk7jW2bxjbNUNvahjfms/c9NgfWV3LLzj+cfbd8eW7dM147slhRVZe31tZtd92EhLEfT3JOa+3nBo9fmiSttf8+7DkjC2N/vHey5e6l3y8AMPlWrk5+/7Yl3+2OwtiknKbcN8mX5z3eOFh2P1V1VlVtqKoNmzZtGk0lv3NV8uRTs6VWJ/neVfi33Wb7t1tS+e7gOxWGbbPcbqexTdq2vG+1bXneTmPbprFNs9K2LW3QtsHCbWNSK9ckh56a/M7VGbdJCWOL0lo7r7W2rrW2bq+99hrNL9n1McnqXbOi3bOtw+5Ltn131davsLrfba3IyrSsSEtqxfa3WW6309gmbVvet9q2PG+nsW3T2KZZalu13DeIP1s/p3df7ZR8955k9W7Jro/OuK0c+2/cvpuT7D/v8X6DZX18+7Zct++p+fqXPpM96ptZu/N3smb3RyebNyW77PX9tw/fO/nmF+eeu/vjkm/fNnzb5XI7jW3StuV9q23L83Ya2zaNbZqhtlWS2v1xuf4Ln88e7Y58Lbtlzz33y56Pe3Kyuc8k/kkJY/+a5MCqOiBzIey0JL/arZrTLsjH//kL+aMbr0mSvO7fH5GTj9i3WzkAwNL6D3/4wdzxb/cmSf7yKUfl5w/dp1stExHGWmtbquq3knwgyYokb2ytfaZnTVXfu7/T/AcAwLK3YqfJObZPRBhLktba+5O8v3cd2yOMAcB0mR/Geh/ll9UE/nGa3zErvEoAMFVWTtDImJixCEbGAGC6rD/8sdvu9z7MC2ND1LyemaTzygDAQ/dfTzo4j3r4zr3LSCKMLcpOwhgATJWddqo84mGrepeRRBgbyqcpAWBW9D3OC2OLsEIYA4CpMylHd2FsiPkdtJNXCQAYETFjEYyMAcD06n2YF8YWwacpAWD6tN4FDAhjw8yLydU7MgMAI9P7KC+MLYKRMQCYPpNydBfGhrjf1yEZGQMARkQYWwSfpgSA6dV7OpKYMcT8fnGaEgCmjwn8y4gr8APA9Op9lBfGhqh5XSOMAcD0mZSjuzC2CE5TAgCjIowNcb85Y0bGAGBq9T7MC2OL4NOUADB9TOCfcPf7ovDekRkAGJneh3lhbBHMGQOA6TMpR3dhbIj5KdnIGAAwKsLYIhgZA4DpVZ3HyISxIeZ3zOqVXiYAYDSkjEUQxgBgipnAP6HmdczKFV4mAGA0pAwAgI6EsSFM2QeA2dD7mC+MAQB0JIwNUYNri610WQsAmGrV+XqiwtgCVpm8DwCMkKSxABffBwBGSRgbQgYDgNnQ+5gvjAEAdCSMDeH0JADMht7HfGFsAa31rgAAmGbC2BC9UzIAMBuEMQBgplXnKfzC2BC9OwYAmA3C2AJaTBoDgGnWe2qSMDZE744BAGaDMAYA0JEwBgDMtN4nw4SxBbjOGAAwSsLYEGXSGADMBhP4AQBmlzA2hHExAGAchLEFmDIGANOt94XehbEhTBkDAMZBGAMAZlrvARhhbIjeQ5YAwGwQxhZi0hgAMELC2BC9hywBgPHofcgXxhbSu4cAgKkmjC3EaUoAYISEsSEMiAHAbOj9FYjCGABAR8LYECbwA8Bs6H3MF8YW0EwaA4DpNCEDL8LYUBPSQwDAaEzIeIswBgDMtN7DL8LYEL3PHwMAs6F7GKuqU6vqM1V1X1Wt610PADBbeg/AdA9jST6d5N8nubR3IfMZGAOAKTchB/uVvQtorV2b9L/g2jBtQib3AQBLbEKO8ZMwMrZoVXVWVW2oqg2bNm0a9e8a6f4BgEnR95g/lpGxqvpwksdsZ9XZrbV3L3Y/rbXzkpyXJOvWrZuQPAsA8IMbSxhrrZ04jt+zlIyLAcBs6H0ybFmdpuzB8BsATKkJGXnpHsaq6peramOSH0/yvqr6QO+akv4pGQAYsQkZcZmET1NemOTC3nUAALOp9/hL95GxSWVkDAAYB2FsAc2FxgBgqvW+nJUwNkR1H7QEAEZqQg71wtgCeqdlAGC6CWMLcJoSAKZb72EXYWyY3j0DAIzWhIy3CGMAwEzrPSNJGBvCwBgATLkJOdgLYwuYkBFMAGBKCWND+BQlAMyG3pezEsYAgNk0Iae/hLEhjIsBwGzofTJMGFuAy4wBwJSakJEXYWyI3ikZAJgNDzqMVdXDq2rFKIoBAJg1C4axqtqpqn61qt5XVbcluS7JLVV1TVW9pqr+3ejLHL/en6wAAEZsQqYiLWZk7OIkT0jy0iSPaa3t31rbO8lPJrksyauq6tkjrBEAYGR6T01auYhtTmyt3fvAha21ryd5V5J3VdWqJa+ss94dAwCM2IQc6xccGdsaxKrqdTXkSqjbC2sAACzswUzgvzPJRVX18CSpqp+rqn8ZTVn9TUhYBgBGrPc88cWcpkyStNZ+v6p+NcklVXVPks1JXjKyygAARmlCJvAvOoxV1QlJfiPJt5Psk+TM1tr1oyqsO0NjADATes8TfzCnKc9O8getteOTnJLkHVX10yOpCgBg1CZk4GXBkbGqqjZnW/BqrV1dVU9P8s4kH926zSgLHbfe548BgNmwqOuMVdWLquqHH7D89iSvrKo3Jzlj6UsDABi93qcpFzNn7KQkZyZ5W1U9Psk3kqxJsiLJB5P8j9bap0ZXYh+9OwYAmA0LhrHW2l1J/jLJXw4u7rpnkn9rrX1zxLUBAIxc76lJi/luyjOq6mtV9fUk5yfZLIgBACyNxcwZ+4MkP5Pk4CRfSvJ/j7SiCeEsJQAwDouZM/ateXPC/qCqPjHKggAAxqn3PPHFhLF9quqsJNcluTbJ1H0p+PYM+RpOAIAltZgw9vIkhyY5fXC7S1W9P8mVSa5qrb1thPUBAEy1xXya8rz5j6tqv8yFssOS/HySqQxjBsYAYDb0PuQv+rspt2qtbUyyMck/Ln05AACz5cF8N+VM6Z2SAYDx6H02TBgDAOhIGBuid0oGAGaDMAYAzLgJ/zqk2WVoDAAYPWEMAKAjYWwIc8YAYFa0rr9dGAMA6EgYG8LAGAAwDsIYAEBHwtgQZdIYAMwIl7YAAOjIBP6JZFwMABgHYQwAoCNhbAhTxgCAcRDGAIAZZwI/AEBHJvBPpDKFHwAYA2EMAKAjYWwIE/gBgHEQxgCAGWcCPwBARybwAwDMLGFsCHPGAIBxEMYAADoSxoZwnTEAYByEMQBgJk3KsEv3MFZVr6mq66rqqqq6sKp2711TYs4YAEy7vp+h/J7uYSzJh5I8ubV2WJLPJnlp53oAAMamexhrrX2wtbZl8PCyJPv1rGcrI2MAwDh0D2MPcGaSfxy2sqrOqqoNVbVh06ZNYywLAGA0Vo7jl1TVh5M8Zjurzm6tvXuwzdlJtiS5YNh+WmvnJTkvSdatWzfSU70+TQkA021SjvRjCWOttRN3tL6qnpPkGUlOaK1Nynw6AGCKTUrgGEsY25GqOinJf0ny1Nbad3rXs5U5YwDAOEzCnLE/T7Jrkg9V1RVV9freBQEAjEv3kbHW2r/rXcP2GBgDAMZhEkbGAADGblIGXoSxIcwZA4DpNikT+IUxAICOhDEAYCZNykkwYWyoSekiAGCaCWMAAB0JY0OYwA8AjIMwBgDQkTA2hIExAGAchDEAgI6EsSHKpDEAYAyEMQCAjoSxIYyLAQDjIIwBAHQkjA1hyhgAMA7CGABAR8LYEGXWGABMtUMe+4gkyQ/tvLJrHX1/OwBAJ6/+lcPyaz/+uDx294d1rcPI2BDmjAHAdHvYzityzNpH9S5DGAMA6EkYAwDoSBgDAOhIGBvCnDEAYByEMQCAjoQxAICOhLEhynlKAGAMhDEAgI6EsSGMiwEA4yCMAQB0JIwNYcoYADAOwhgAQEfC2BBl1hgAMAbCGABAR8LYEOaMAQDjIIwBAHQkjA1hYAwAGAdhDACgI2FsGENjAMAYCGMAAB0JY0O4zhgAMA7CGABAR8LYEK4zBgCMgzAGANCRMDaEgTEAYByEMQCAjoSxIcqkMQBgDIQxAICOhDEAgI6EsSGcpAQAxkEYAwDoSBgbwvx9AGAchDEAgI6EsSF8UTgAMA7CGABAR8LYMAbGAIAxEMYAADoSxobwaUoAYByEMQCAjoSxIQyMAQDjIIwBAHQkjA1RJo0BAGMgjAEAdNQ9jFXVK6rqqqq6oqo+WFWP7V1TYs4YADAe3cNYkte01g5rrR2R5L1J/q/O9QAAjE33MNZa+9a8hw9P0nrVMp8pYwDAOKzsXUCSVNV/S/JrSe5I8rQdbHdWkrOS5Id/+IfHUxwAwAiNZWSsqj5cVZ/ezs/JSdJaO7u1tn+SC5L81rD9tNbOa62ta62t22uvvUZbs1ljAMAYjGVkrLV24iI3vSDJ+5O8fITlAABMjO5zxqrqwHkPT05yXa9a5jNnDAAYh0mYM/bKqjooyX1Jvpjk+Z3rAQAYm+5hrLX2K71rAADopftpSgCAWSaMAQB0JIwNYQI/ADAOwhgAQEfC2BAu+goAjIMwBgDQkTA2hDljAMA4CGMAAB0JY0MYGAMAxkEYAwDoSBgbokwaAwDGQBgDAOhIGBvCuBgAMA7CGABAR8LYEKaMAQDjIIwBAHQkjA3h05QAwDgIYwAAHQljAAAdCWMAAB0JYwAAHQljAAAdCWMAAB0JYwAAHQljAAAdCWMAAB0JYwAAHQljAAAdCWMAAB0JYwAAHQljAAAdCWMAAB0JYwAAHQljAAAdCWMAAB0JYwAAHQljAAAdCWMAAB0JYwAAHQljAAAdCWMAAB0JYwAAHQljAAAdCWMAAB0JYwAAHQljAAAdCWMAAB0JYwAAHQljAAAdCWMAAB0JYwAAHQljAAAdCWMAAB0JYws4fP/de5cAAEyxlb0LmGT/5+wTsuvqVb3LAACmmDC2A3vvuqZ3CQDAlHOaEgCgI2EMAKAjYQwAoCNhDACgI2EMAKCjiQljVfWfqqpV1Z69awEAGJeJCGNVtX+Sn03ypd61AACM00SEsSR/luS/JGm9CwEAGKfuYayqTk5yc2vtykVse1ZVbaiqDZs2bRpDdQAAozWWK/BX1YeTPGY7q85O8rLMnaJcUGvtvCTnJcm6deuMogEAy95Ywlhr7cTtLa+qQ5MckOTKqkqS/ZJ8sqp+tLX21XHUBgDQU9fvpmytXZ1k762Pq+qmJOtaa1/rVhQAwBh1nzMGADDLuo6MPVBrbW3vGgAAxsnIGABAR9Xa8vxQYlVtSvLFEf+aPZPM8vy1WW7/LLc9me32a/vsmuX2z3Lbk/G0/3Gttb22t2LZhrFxqKoNrbV1vevoZZbbP8ttT2a7/do+m21PZrv9s9z2pH/7naYEAOhIGAMA6EgY27HzehfQ2Sy3f5bbnsx2+7V9ds1y+2e57Unn9pszBgDQkZExAICOhDEAgI5mPoxV1alV9Zmquq+qhn6stapOqqrrq+qGqnrJvOUHVNUnBsvfUVU7j6fypVFVj6qqD1XV5wa3j9zONk+rqivm/dxVVb80WPc3VfWFeeuOGHcbflCLaftgu+/Oa99F85Yv275fZL8fUVUfH7w/rqqqZ85btyz7fdj7eN761YO+vGHQt2vnrXvpYPn1VfVzYy18CSyi7S+uqmsGff2RqnrcvHXbfQ8sF4to+3OqatO8Nj5v3rozBu+Tz1XVGeOtfGksov1/Nq/tn62qb85bt9z7/o1VdVtVfXrI+qqqcwevzVVVddS8dePr+9baTP8keVKSg5JckrkvKd/eNiuS3Jjk8Ul2TnJlkkMG6/5XktMG91+f5AW92/Qg2//qJC8Z3H9JklctsP2jknw9yQ8NHv9NklN6t2OUbU+yecjyZdv3i2l7kicmOXBw/7FJbkmy+3Lt9x29j+dt88Ikrx/cPy3JOwb3DxlsvzrJAYP9rOjdpiVu+9Pmva9fsLXtg8fbfQ8sh59Ftv05Sf58O899VJLPD24fObj/yN5tWur2P2D7FyV54zT0/aD+pyQ5Ksmnh6z/+ST/mKSSHJvkEz36fuZHxlpr17bWrl9gsx9NckNr7fOttXuSvD3JyVVVSX46yTsH2705yS+NrNjRODlzdSeLq/+UJP/YWvvOKIsakwfb9m2moO8XbHtr7bOttc8N7n8lyW1Jtnv16GViu+/jB2wz/3V5Z5ITBn19cpK3t9bubq19IckNg/0tFwu2vbV28bz39WVJ9htzjaOymH4f5ueSfKi19vXW2jeSfCjJSSOqc1QebPufleRtY6lsDFprl2ZuAGGYk5O8pc25LMnuVbVPxtz3Mx/GFmnfJF+e93jjYNkeSb7ZWtvygOXLyaNba7cM7n81yaMX2P60fP8b9b8Nhnf/rKpWL3mFo7PYtq+pqg1VddnW07NZ/n3/oPq9qn40c39V3zhv8XLr92Hv4+1uM+jbOzLX14t57iR7sPU/N3OjBVtt7z2wXCy27b8y+Pf8zqra/0E+d5Itug2DU9MHJPnovMXLue8XY9jrM9a+XzmqHU+SqvpwksdsZ9XZrbV3j7uecdtR++c/aK21qhp6rZPBXwuHJvnAvMUvzdzBfOfMXaflvyb5o4da81JZorY/rrV2c1U9PslHq+rqzB2kJ9oS9/vfJjmjtXbfYPFE9zs/uKp6dpJ1SZ46b/H3vQdaazdufw/L0nuSvK21dndV/cfMjY7+dOeaejgtyTtba9+dt2za+34izEQYa62d+BB3cXOS/ec93m+w7PbMDWmuHPwVvXX5RNlR+6vq1qrap7V2y+Cge9sOdvUfklzYWrt33r63jq7cXVVvSvKfl6ToJbIUbW+t3Ty4/XxVXZLkyCTvyoT3/VK0vap2S/K+zP3hctm8fU90vw8x7H28vW02VtXKJI/I3Pt8Mc+dZIuqv6pOzFxYf2pr7e6ty4e8B5bLAXnBtrfWbp/38PzMzanc+tzjH/DcS5a8wtF6MP92T0vym/MXLPO+X4xhr89Y+95pysX51yQH1tyn53bO3D/Yi9rcLL+LMzePKknOSLLcRtouylzdycL1f99cgsGBfOscql9Kst1PrEyoBdteVY/cegquqvZMclySa6ag7xfT9p2TXJi5+RTvfMC65djv230fP2Cb+a/LKUk+Oujri5KcVnOftjwgyYFJ/s+Y6l4KC7a9qo5M8j+TrG+t3TZv+XbfA2Or/KFbTNv3mfdwfZJrB/c/kORnB6/BI5P8bO5/ZmA5WMy/+1TVwZmbqP7xecuWe98vxkVJfm3wqcpjk9wx+GNzvH0/qk8GLJefJL+cuXPBdye5NckHBssfm+T987b7+SSfzdxfBGfPW/74zP2nfEOSv0+yunebHmT790jykSSfS/LhJI8aLF+X5Px5263N3F8KOz3g+R9NcnXmDsZvTbJL7zYtZduT/MSgfVcObp87DX2/yLY/O8m9Sa6Y93PEcu737b2PM3d6df3g/ppBX94w6NvHz3vu2YPnXZ/k6b3bMoK2f3jwf+DWvr5osHzoe2C5/Cyi7f89yWcGbbw4ycHznnvm4N/DDUl+vXdbRtH+weNzkrzyAc+bhr5/W+Y+CX5v5o71z03y/CTPH6yvJH8xeG2uzryrKoyz730dEgBAR05TAgB0JIwBAHQkjAEAdCSMAQB0JIwBAHQkjAEAdCSMAQB0JIwBJKmqi6vqZwb3/7iq/p/eNQGzYSa+mxJgEV6e5I+qau/Mff/e+s71ADPCFfgBBqrqn5LskuT41tqdvesBZoPTlABJqurQJPskuUcQA8ZJGANmXlXtk+SCJCcn2VxVJ3UuCZghwhgw06rqh5L87yT/qbV2bZJXZG7+GMBYmDMGANCRkTEAgI6EMQCAjoQxAICOhDEAgI6EMQCAjoQxAICOhDEAgI7+f4rYXw0mliwEAAAAAElFTkSuQmCC\n",
      "text/plain": [
       "<Figure size 720x504 with 1 Axes>"
      ]
     },
     "metadata": {
      "needs_background": "light"
     },
     "output_type": "display_data"
    }
   ],
   "source": [
    "f = lambda x: (7*x)/(2*x*x+1)\n",
    "xvals = np.linspace(-1,1,250);\n",
    "\n",
    "fvals = f(xvals)\n",
    "xinterp = np.linspace(-1,1,2000)\n",
    "yinterp = lagrange_interp(xvals,fvals,xinterp);\n",
    "\n",
    "plt.plot(xinterp,yinterp)\n",
    "plt.plot(xvals,fvals)\n",
    "\n",
    "\n",
    "plt.figure(figsize=(10,7))\n",
    "plt.plot(xinterp,yinterp, label='lagrange');\n",
    "plt.plot(xvals,fvals,'*', label='points');\n",
    "plt.xlabel('$x$');\n",
    "plt.ylabel('$P(x)$');\n",
    "plt.legend()\n"
   ]
  },
  {
   "cell_type": "markdown",
   "metadata": {
    "id": "d6Cz9asUS4Wa"
   },
   "source": [
    "##### (e)\n",
    "\n",
    "What is the degree of the Lagrange interpolating polynomial in part (d)."
   ]
  },
  {
   "cell_type": "markdown",
   "metadata": {
    "id": "IRjC05csS4Wd"
   },
   "source": [
    "## 3(e) Solution\n"
   ]
  },
  {
   "cell_type": "code",
   "execution_count": null,
   "metadata": {},
   "outputs": [],
   "source": []
  },
  {
   "cell_type": "markdown",
   "metadata": {
    "id": "d6Cz9asUS4Wa"
   },
   "source": [
    "##### (f)\n",
    "\n",
    "Compare the graph of f(x) with that of the Lagrange interpolating polynomial from (d) for `x = np.linspace(-1,1,2000)` by plotting both graphs on the same figure."
   ]
  },
  {
   "cell_type": "markdown",
   "metadata": {
    "id": "0AFfBMAoS4Wd",
    "outputId": "070e79fd-8c62-4613-8d2d-96da5d5eae56"
   },
   "source": [
    "## 3(f) Solution\n"
   ]
  },
  {
   "cell_type": "code",
   "execution_count": null,
   "metadata": {},
   "outputs": [],
   "source": []
  },
  {
   "cell_type": "markdown",
   "metadata": {
    "id": "udYqRbemS4We"
   },
   "source": [
    "#### Problem 4 (5 points)\n",
    "\n",
    "Assuming that $f(x)$ is given as follows:\n",
    "$$\n",
    "f(x) = \\frac{7x}{2x^{2} + 1}, ~ -1 \\leq x \\leq 1\n",
    "$$\n",
    "\n",
    "##### (a)  \n",
    "\n",
    "Using a Chebyshev-spaced set of $25$ nodes, generate the Lagrange interpolating polynomial to $f(x)$ and use it to interpolate `x = np.linspace(-1,1,2000)`. \n",
    "\n",
    "Generate a plot which shows how the error in your approximation varies over the interval $[-1,1]$ as presented in the video."
   ]
  },
  {
   "cell_type": "markdown",
   "metadata": {
    "id": "2QDtLUz3S4Wf",
    "outputId": "340d4acf-5617-4d10-965d-26909cacb09a",
    "scrolled": false
   },
   "source": [
    "## 4(a) Solution\n"
   ]
  },
  {
   "cell_type": "code",
   "execution_count": 73,
   "metadata": {},
   "outputs": [
    {
     "data": {
      "text/plain": [
       "<matplotlib.legend.Legend at 0x7f504fe7d730>"
      ]
     },
     "execution_count": 73,
     "metadata": {},
     "output_type": "execute_result"
    },
    {
     "data": {
      "image/png": "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\n",
      "text/plain": [
       "<Figure size 432x288 with 1 Axes>"
      ]
     },
     "metadata": {
      "needs_background": "light"
     },
     "output_type": "display_data"
    },
    {
     "data": {
      "image/png": "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\n",
      "text/plain": [
       "<Figure size 720x504 with 1 Axes>"
      ]
     },
     "metadata": {
      "needs_background": "light"
     },
     "output_type": "display_data"
    }
   ],
   "source": [
    "f = lambda x: 7*x/(2*x**2+1)\n",
    "xvals = np.linspace(-1,1,25);\n",
    "\n",
    "fvals = f(xvals)\n",
    "xinterp = np.linspace(-1,1,2000)\n",
    "yinterp = lagrange_interp(xvals,fvals,xinterp);\n",
    "\n",
    "plt.plot(xinterp,yinterp)\n",
    "plt.plot(xvals,fvals)\n",
    "\n",
    "\n",
    "plt.figure(figsize=(10,7))\n",
    "plt.plot(xinterp,yinterp, label='lagrange');\n",
    "plt.plot(xvals,fvals,'*', label='points');\n",
    "plt.xlabel('$x$');\n",
    "plt.ylabel('$P(x)$');\n",
    "plt.legend()"
   ]
  },
  {
   "cell_type": "markdown",
   "metadata": {
    "id": "udYqRbemS4We"
   },
   "source": [
    "##### (b)\n",
    "\n",
    "Compare the graph of f(x) with that of the Lagrange interpolating polynomial from (a) for `x = np.linspace(-1,1,2000)` by plotting both graphs on the same figure."
   ]
  },
  {
   "cell_type": "markdown",
   "metadata": {
    "id": "YOg2CHTbS4Wf",
    "outputId": "9b9f1e07-9664-4c56-df89-dd8420042ee9",
    "scrolled": false
   },
   "source": [
    "## 4(b) Solution\n"
   ]
  },
  {
   "cell_type": "code",
   "execution_count": 74,
   "metadata": {},
   "outputs": [
    {
     "data": {
      "text/plain": [
       "<matplotlib.legend.Legend at 0x7f5050010160>"
      ]
     },
     "execution_count": 74,
     "metadata": {},
     "output_type": "execute_result"
    },
    {
     "data": {
      "image/png": "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\n",
      "text/plain": [
       "<Figure size 432x288 with 1 Axes>"
      ]
     },
     "metadata": {
      "needs_background": "light"
     },
     "output_type": "display_data"
    },
    {
     "data": {
      "image/png": "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\n",
      "text/plain": [
       "<Figure size 720x504 with 1 Axes>"
      ]
     },
     "metadata": {
      "needs_background": "light"
     },
     "output_type": "display_data"
    }
   ],
   "source": [
    "f = lambda x: (7*x)/(2*x*x+1)\n",
    "xvals = np.linspace(-1,1,250);\n",
    "\n",
    "fvals = f(xvals)\n",
    "xinterp = np.linspace(-1,1,2000)\n",
    "yinterp = lagrange_interp(xvals,fvals,xinterp);\n",
    "\n",
    "plt.plot(xinterp,yinterp)\n",
    "plt.plot(xvals,fvals)\n",
    "\n",
    "\n",
    "plt.figure(figsize=(10,7))\n",
    "plt.plot(xinterp,yinterp, label='lagrange');\n",
    "plt.plot(xvals,fvals,'*', label='points');\n",
    "plt.xlabel('$x$');\n",
    "plt.ylabel('$P(x)$');\n",
    "plt.legend()"
   ]
  },
  {
   "cell_type": "markdown",
   "metadata": {
    "id": "udYqRbemS4We"
   },
   "source": [
    "##### (c)\n",
    "\n",
    "Using `non-equispaced` set of $250$ nodes, generate the Lagrange interpolating polynomial to $f(x)$ and use it to interpolate `x = np.linspace(-1,1,2000)`.  \n",
    "Generate a plot which shows how the error in your approximation varies over the interval.  "
   ]
  },
  {
   "cell_type": "markdown",
   "metadata": {
    "id": "YUKWCduGS4Wf",
    "outputId": "f750cfd1-d9f9-4fd3-dd38-f1509a34ca41"
   },
   "source": [
    "## 4(c) Solution\n"
   ]
  },
  {
   "cell_type": "code",
   "execution_count": 75,
   "metadata": {},
   "outputs": [
    {
     "data": {
      "text/plain": [
       "array([ 9.99980418e-01,  9.99823765e-01,  9.99510484e-01,  9.99040624e-01,\n",
       "        9.98414258e-01,  9.97631485e-01,  9.96692427e-01,  9.95597231e-01,\n",
       "        9.94346069e-01,  9.92939137e-01,  9.91376655e-01,  9.89658869e-01,\n",
       "        9.87786046e-01,  9.85758481e-01,  9.83576491e-01,  9.81240419e-01,\n",
       "        9.78750629e-01,  9.76107512e-01,  9.73311482e-01,  9.70362977e-01,\n",
       "        9.67262459e-01,  9.64010414e-01,  9.60607351e-01,  9.57053803e-01,\n",
       "        9.53350327e-01,  9.49497503e-01,  9.45495935e-01,  9.41346249e-01,\n",
       "        9.37049096e-01,  9.32605149e-01,  9.28015104e-01,  9.23279679e-01,\n",
       "        9.18399618e-01,  9.13375683e-01,  9.08208664e-01,  9.02899368e-01,\n",
       "        8.97448627e-01,  8.91857296e-01,  8.86126250e-01,  8.80256388e-01,\n",
       "        8.74248628e-01,  8.68103911e-01,  8.61823202e-01,  8.55407482e-01,\n",
       "        8.48857758e-01,  8.42175056e-01,  8.35360422e-01,  8.28414924e-01,\n",
       "        8.21339649e-01,  8.14135707e-01,  8.06804226e-01,  7.99346355e-01,\n",
       "        7.91763261e-01,  7.84056132e-01,  7.76226177e-01,  7.68274622e-01,\n",
       "        7.60202711e-01,  7.52011711e-01,  7.43702903e-01,  7.35277590e-01,\n",
       "        7.26737091e-01,  7.18082745e-01,  7.09315907e-01,  7.00437950e-01,\n",
       "        6.91450266e-01,  6.82354262e-01,  6.73151363e-01,  6.63843011e-01,\n",
       "        6.54430665e-01,  6.44915798e-01,  6.35299900e-01,  6.25584480e-01,\n",
       "        6.15771058e-01,  6.05861172e-01,  5.95856374e-01,  5.85758232e-01,\n",
       "        5.75568327e-01,  5.65288257e-01,  5.54919630e-01,  5.44464072e-01,\n",
       "        5.33923221e-01,  5.23298727e-01,  5.12592256e-01,  5.01805484e-01,\n",
       "        4.90940101e-01,  4.79997810e-01,  4.68980324e-01,  4.57889370e-01,\n",
       "        4.46726684e-01,  4.35494016e-01,  4.24193126e-01,  4.12825783e-01,\n",
       "        4.01393769e-01,  3.89898874e-01,  3.78342899e-01,  3.66727654e-01,\n",
       "        3.55054959e-01,  3.43326643e-01,  3.31544543e-01,  3.19710504e-01,\n",
       "        3.07826381e-01,  2.95894035e-01,  2.83915336e-01,  2.71892159e-01,\n",
       "        2.59826389e-01,  2.47719916e-01,  2.35574636e-01,  2.23392452e-01,\n",
       "        2.11175272e-01,  1.98925010e-01,  1.86643585e-01,  1.74332922e-01,\n",
       "        1.61994948e-01,  1.49631597e-01,  1.37244805e-01,  1.24836513e-01,\n",
       "        1.12408665e-01,  9.99632073e-02,  8.75020896e-02,  7.50272642e-02,\n",
       "        6.25406854e-02,  5.00443092e-02,  3.75400933e-02,  2.50299965e-02,\n",
       "        1.25159786e-02,  6.12323400e-17, -1.25159786e-02, -2.50299965e-02,\n",
       "       -3.75400933e-02, -5.00443092e-02, -6.25406854e-02, -7.50272642e-02,\n",
       "       -8.75020896e-02, -9.99632073e-02, -1.12408665e-01, -1.24836513e-01,\n",
       "       -1.37244805e-01, -1.49631597e-01, -1.61994948e-01, -1.74332922e-01,\n",
       "       -1.86643585e-01, -1.98925010e-01, -2.11175272e-01, -2.23392452e-01,\n",
       "       -2.35574636e-01, -2.47719916e-01, -2.59826389e-01, -2.71892159e-01,\n",
       "       -2.83915336e-01, -2.95894035e-01, -3.07826381e-01, -3.19710504e-01,\n",
       "       -3.31544543e-01, -3.43326643e-01, -3.55054959e-01, -3.66727654e-01,\n",
       "       -3.78342899e-01, -3.89898874e-01, -4.01393769e-01, -4.12825783e-01,\n",
       "       -4.24193126e-01, -4.35494016e-01, -4.46726684e-01, -4.57889370e-01,\n",
       "       -4.68980324e-01, -4.79997810e-01, -4.90940101e-01, -5.01805484e-01,\n",
       "       -5.12592256e-01, -5.23298727e-01, -5.33923221e-01, -5.44464072e-01,\n",
       "       -5.54919630e-01, -5.65288257e-01, -5.75568327e-01, -5.85758232e-01,\n",
       "       -5.95856374e-01, -6.05861172e-01, -6.15771058e-01, -6.25584480e-01,\n",
       "       -6.35299900e-01, -6.44915798e-01, -6.54430665e-01, -6.63843011e-01,\n",
       "       -6.73151363e-01, -6.82354262e-01, -6.91450266e-01, -7.00437950e-01,\n",
       "       -7.09315907e-01, -7.18082745e-01, -7.26737091e-01, -7.35277590e-01,\n",
       "       -7.43702903e-01, -7.52011711e-01, -7.60202711e-01, -7.68274622e-01,\n",
       "       -7.76226177e-01, -7.84056132e-01, -7.91763261e-01, -7.99346355e-01,\n",
       "       -8.06804226e-01, -8.14135707e-01, -8.21339649e-01, -8.28414924e-01,\n",
       "       -8.35360422e-01, -8.42175056e-01, -8.48857758e-01, -8.55407482e-01,\n",
       "       -8.61823202e-01, -8.68103911e-01, -8.74248628e-01, -8.80256388e-01,\n",
       "       -8.86126250e-01, -8.91857296e-01, -8.97448627e-01, -9.02899368e-01,\n",
       "       -9.08208664e-01, -9.13375683e-01, -9.18399618e-01, -9.23279679e-01,\n",
       "       -9.28015104e-01, -9.32605149e-01, -9.37049096e-01, -9.41346249e-01,\n",
       "       -9.45495935e-01, -9.49497503e-01, -9.53350327e-01, -9.57053803e-01,\n",
       "       -9.60607351e-01, -9.64010414e-01, -9.67262459e-01, -9.70362977e-01,\n",
       "       -9.73311482e-01, -9.76107512e-01, -9.78750629e-01, -9.81240419e-01,\n",
       "       -9.83576491e-01, -9.85758481e-01, -9.87786046e-01, -9.89658869e-01,\n",
       "       -9.91376655e-01, -9.92939137e-01, -9.94346069e-01, -9.95597231e-01,\n",
       "       -9.96692427e-01, -9.97631485e-01, -9.98414258e-01, -9.99040624e-01,\n",
       "       -9.99510484e-01, -9.99823765e-01, -9.99980418e-01])"
      ]
     },
     "execution_count": 75,
     "metadata": {},
     "output_type": "execute_result"
    }
   ],
   "source": [
    "n = 250 \n",
    "cheby_nodes(n)"
   ]
  },
  {
   "cell_type": "markdown",
   "metadata": {
    "id": "udYqRbemS4We"
   },
   "source": [
    "##### (d)\n",
    "\n",
    "Compare the graph of $f(x)$ with that of the Lagrange interpolating polynomial from (c) for `x = np.linspace(-1,1,2000)` by plotting both graphs on the same figure."
   ]
  },
  {
   "cell_type": "markdown",
   "metadata": {
    "id": "AkiyeyMfS4Wg",
    "outputId": "613fa300-2ad8-43df-cd6a-5e0b5e63ddfb"
   },
   "source": [
    "## 4(d) Solution\n"
   ]
  },
  {
   "cell_type": "code",
   "execution_count": null,
   "metadata": {},
   "outputs": [],
   "source": []
  },
  {
   "cell_type": "markdown",
   "metadata": {
    "id": "udYqRbemS4We"
   },
   "source": [
    "##### (e)\n",
    "\n",
    "Compare your results from Problem 4 to Problem 3. Explain your findings."
   ]
  },
  {
   "cell_type": "markdown",
   "metadata": {
    "id": "X22qF9CyS4Wg"
   },
   "source": [
    "## 4(e) Solution\n"
   ]
  },
  {
   "cell_type": "code",
   "execution_count": null,
   "metadata": {},
   "outputs": [],
   "source": []
  },
  {
   "cell_type": "markdown",
   "metadata": {
    "id": "Y8UAnj9NS4Wg"
   },
   "source": [
    "### Problem 5 (6 points)\n",
    "\n",
    "The Hermite polynomials $H_{n}(x)$ are defined such that $H_{0}(x)=1$, $H_{1}(x)=2x$, and for $n\\geq2$, $H_{n}(x)$ satisfies the recurrence relationship\n",
    "\n",
    "$$\n",
    "H_{n}(x) = 2xH_{n-1}(x) -2(n-1)H_{n-2}(x), ~ n\\geq 2. \n",
    "$$\n",
    "\n",
    "##### (a) \n",
    "\n",
    "Write a recursive program to find any Hermite polynomial $H_{n}(x)$. "
   ]
  },
  {
   "cell_type": "markdown",
   "metadata": {},
   "source": [
    "## 5(a) Solution \n"
   ]
  },
  {
   "cell_type": "code",
   "execution_count": 53,
   "metadata": {},
   "outputs": [],
   "source": [
    "def Hn(n,x):\n",
    "        if(n==0): return 1\n",
    "        elif(n==1): return 2*x\n",
    "        else: return 2*x*Hn(n-1,x) - 2*(n-1)*Hn(n-2,x)\n",
    "\n",
    "x = np.linspace(-3,3,100)"
   ]
  },
  {
   "cell_type": "markdown",
   "metadata": {
    "id": "Y8UAnj9NS4Wg"
   },
   "source": [
    "##### (b) \n",
    "\n",
    "Generate a plot of the first six Hermite polyonmials on the interval $-3\\leq x \\leq 3$.  Your figure should be labeled, have a legend, and different colors should be used to distinguish the different Hermite polynmials in the plot. Also be sure to restrict the $y$ limits of the plot to get a better sense of the shape of each polynomial. "
   ]
  },
  {
   "cell_type": "markdown",
   "metadata": {},
   "source": [
    "## 5(b) Solution\n"
   ]
  },
  {
   "cell_type": "code",
   "execution_count": 54,
   "metadata": {},
   "outputs": [
    {
     "data": {
      "image/png": "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\n",
      "text/plain": [
       "<Figure size 432x288 with 1 Axes>"
      ]
     },
     "metadata": {
      "needs_background": "light"
     },
     "output_type": "display_data"
    }
   ],
   "source": [
    "for i in range(1,7):\n",
    "        y = Hn(i,x)\n",
    "        l = 'H'+str(i)+\"(x)\"\n",
    "        plt.plot(x,y,label=l)\n",
    "        plt.ylim((-1000,1000))\n",
    "\n",
    "plt.xlabel(\"x\")\n",
    "plt.ylabel(\"H(x)\")\n",
    "plt.legend()\n",
    "plt.show()"
   ]
  },
  {
   "cell_type": "markdown",
   "metadata": {},
   "source": [
    "### Problem 6 (4 points)\n",
    "\n",
    "Develop quadratic splines for the following data points in the following table.\n",
    "\n",
    "$$\n",
    "\\begin{array}{r|r|r}\n",
    "i & x_{i} & f(x_i)\\\\\n",
    "\\hline\n",
    "0 & -1.00 & -1.0000 \\\\\n",
    "1 & -0.65 & 0.3860 \\\\\n",
    "2 & 0.10 & 0.4802 \\\\\n",
    "3 & 0.40 & 0.8838 \\\\\n",
    "4 & 1.00 & 1.0000\n",
    "\\end{array}\n",
    "$$\n",
    "Using quadratic splines, estimate the value of $f(-0.3)$.\n",
    "\n",
    "You must show your work to get full credit, that means deriving the coefficients of the system that needs to be solved."
   ]
  },
  {
   "cell_type": "markdown",
   "metadata": {},
   "source": [
    "## Problem 6 Solution\n"
   ]
  },
  {
   "cell_type": "markdown",
   "metadata": {},
   "source": [
    "$\n",
    "a_1x^2+b_1x+c_1 , -1 \\leq x\\leq 0.65 \\\\\n",
    "a_2x^2+b_2x+c_2 , 0.05 \\leq x\\leq 0.1 \\\\\n",
    "a_3x^2+b_3x+c_3 , 0.1 \\leq x\\leq 0.4 \\\\\n",
    "a_4x^2+b_4x+c_4 , 0.4 \\leq x\\leq 1 \\\\\n",
    "a_1(-1.00)^2+b_1(1)+c_1 = 0 \\\\\n",
    "a_2(0.65)^2+b_1(0.65)+c_1 = 0 \\\\\n",
    "a_2(0.65)^2+b_1(0.65)+c_1 = 0 \\\\\n",
    "a_2(0.1)^2+b_2(0.1)+c_2 = 0 \\\\\n",
    "a_3(0.1)^2+b_3(0.1)+c_3 = 0 \\\\\n",
    "a_3(-1.00)^2+b_1(1)+c_1 = 0 \\\\\n",
    "$"
   ]
  },
  {
   "cell_type": "code",
   "execution_count": null,
   "metadata": {},
   "outputs": [],
   "source": []
  }
 ],
 "metadata": {
  "colab": {
   "name": "Assignment11_LastName_FirstName_Solution.ipynb",
   "provenance": []
  },
  "kernelspec": {
   "display_name": "Python 3 (ipykernel)",
   "language": "python",
   "name": "python3"
  },
  "language_info": {
   "codemirror_mode": {
    "name": "ipython",
    "version": 3
   },
   "file_extension": ".py",
   "mimetype": "text/x-python",
   "name": "python",
   "nbconvert_exporter": "python",
   "pygments_lexer": "ipython3",
   "version": "3.9.7"
  }
 },
 "nbformat": 4,
 "nbformat_minor": 1
}
