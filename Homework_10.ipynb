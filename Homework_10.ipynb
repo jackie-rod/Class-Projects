{
 "cells": [
  {
   "cell_type": "markdown",
   "metadata": {
    "id": "SriEqMHcYh7Q"
   },
   "source": [
    "# Homework 10\n",
    "\n",
    "## Due date: Friday, April 15 at 11:59pm in Gradescope\n",
    "\n",
    "###  Use the following format for homework filename:  \n",
    "\n",
    "`Homework_10.py`\n",
    "\n",
    "#### This assignment is worth 26 points."
   ]
  },
  {
   "cell_type": "code",
   "execution_count": 117,
   "metadata": {
    "id": "0LerrmmWYh7W"
   },
   "outputs": [],
   "source": [
    "import numpy as np\n",
    "import matplotlib.pyplot as plt\n",
    "\n",
    "try:\n",
    "    %matplotlib inline\n",
    "except: \n",
    "    pass\n",
    "\n",
    "def trapezoid_method(a,b,n,f):\n",
    "    N = int(n)\n",
    "    xvals = np.linspace(a,b,N+1)\n",
    "    fvals = f(xvals)\n",
    "    dx = (b-a)/N\n",
    "    return dx/2.*(fvals[0] + fvals[N] + 2.*np.sum(fvals[1:N])) \n",
    "\n",
    "def simpson_method(a,b,n,f):\n",
    "    N = int(n)\n",
    "    xvals = np.linspace(a,b,N+1)\n",
    "    fvals = f(xvals)\n",
    "    dx = (b-a)/N\n",
    "    return dx/3.*(fvals[0] + fvals[N] + 2.*np.sum(fvals[2:N-1:2]) + 4.*np.sum(fvals[1:N:2]))\n"
   ]
  },
  {
   "cell_type": "markdown",
   "metadata": {
    "id": "pSCtrPxUYh7m"
   },
   "source": [
    "### **Problem 1** (3 points)\n",
    "\n",
    "Given that  \n",
    "\n",
    "$$\n",
    "F = \\frac{A}{\\int_0^{T_1} c(t)~dt + \\int_{T_1}^{T_2} m(t) ~ dt},\n",
    "$$\n",
    "\n",
    "where $A = 3$, $T_1=\\pi/2$, $T_2=\\pi/4$, \n",
    "\n",
    "$$ c(t) = \\cos(t) - sin(t) \\quad \\text{and}  \\quad m(t) = \\sin(t) - cos(t).$$\n",
    "\n",
    "Use Trapezoid Method to compute the denominator of the above formula and then compute $F$. Print your result for $F$."
   ]
  },
  {
   "cell_type": "code",
   "execution_count": 108,
   "metadata": {
    "id": "rMuq_hZEYh7m",
    "outputId": "e6bacc50-58f3-422b-bad3-83cf387f523b"
   },
   "outputs": [],
   "source": [
    "# Problem 1 solution\n"
   ]
  },
  {
   "cell_type": "markdown",
   "metadata": {
    "id": "K29G-3q5Yh7q"
   },
   "source": [
    "### **Problem 2** (2 points)\n",
    "\n",
    "Write a program to graph several members of the family of curves with\n",
    "parametric equations\n",
    "\n",
    "$$\\left\\{\\begin{matrix}x = t+a\\cos(t)\\\\ y= t + a\\sin(t)\\end{matrix}\\right.$$\n",
    "\n",
    "where $a > 0$. How does the shape change as $a$ increases? For what\n",
    "values of $a$ does the curve have a loop?"
   ]
  },
  {
   "cell_type": "code",
   "execution_count": 109,
   "metadata": {
    "id": "AN8dlz_ZYh7q",
    "outputId": "c06dd9e3-b7eb-4404-de45-9b2bbbdb593d"
   },
   "outputs": [],
   "source": [
    "# Problem 2 solution\n"
   ]
  },
  {
   "cell_type": "markdown",
   "metadata": {
    "id": "YySlZZoZYh7r"
   },
   "source": [
    "As $a$ increases, the size of the loop becomes larger as well. The curve forms a loop when $a > 1$."
   ]
  },
  {
   "cell_type": "markdown",
   "metadata": {},
   "source": [
    "### **Problem 3**\n",
    "\n",
    "#### a) (3 points)\n",
    "\n",
    "Write a program to graph the *epitrochoid* curve with parametric equations\n",
    "\n",
    "$$\\left\\{\\begin{matrix}\n",
    "x(t) = 11 \\cos(t) - 4 \\cos \\left( \\frac{11t}{2} \\right) \\\\ y(t) = 11 \\sin(t) - 4 \\sin\\left( \\frac{11t}{2} \\right)\\end{matrix}\\right.\n",
    "$$\n",
    "\n",
    "Generate the plot over the interval $-2\\pi \\leq t \\leq 2\\pi$."
   ]
  },
  {
   "cell_type": "code",
   "execution_count": 110,
   "metadata": {},
   "outputs": [],
   "source": [
    "# Problem 3a solution\n"
   ]
  },
  {
   "cell_type": "markdown",
   "metadata": {},
   "source": [
    "#### b) (3 points) \n",
    "\n",
    "If a curve $C$ is described by the parametric equations \n",
    "\n",
    "$$\n",
    "x=f(t), ~y=g(t), ~\\alpha \\leq t \\leq \\beta,\n",
    "$$\n",
    "\n",
    "where $f'$ and $g'$ are continuous on $[\\alpha, \\beta]$ and $C$ is traversed exactly once as $t$ increases from $\\alpha$ to $\\beta$, then the length of $C$ is\n",
    "\n",
    "$$\n",
    "L = \\int_{\\alpha}^{\\beta} \\sqrt{\\left( \\frac{dx}{dt} \\right)^2 + \\left( \\frac{dy}{dt} \\right)^2} ~ dt\n",
    "$$\n",
    "\n",
    "\n",
    "Use the Simpson’s Method with a number of interval $N = 10$ to estimate the length of the curve in part **a)**."
   ]
  },
  {
   "cell_type": "code",
   "execution_count": 111,
   "metadata": {},
   "outputs": [],
   "source": [
    "# Problem 3b solution\n"
   ]
  },
  {
   "cell_type": "markdown",
   "metadata": {},
   "source": [
    "### **Problem 4** (5pts)\n",
    "\n",
    "An automobile of mass $M = 4500$ kg is moving at a speed of $35$ m/s. The engine is disengaged suddenly at $t=0$ sec. Assume that the equation of motion after $t=0$ is given by\n",
    "\n",
    "$$\n",
    "4500 v \\frac{dv}{dx} = -8.276v^2 -2000\n",
    "$$\n",
    "\n",
    "where $v=v(t)$ is the speed (m/sec) of the car at $t$. The left side represents $Mv~(dv/dx)$. The first term on the right is the aerodynamic drag, and the second term is the rolling resistance of the tires. Calculate how far the car travels until the speed reduces to $15$ m/sec. (Hint: The equation of motion may be integrated as:\n",
    "\n",
    "$$\n",
    "\\int_{15}^{35} \\frac{4500 v}{8.276v^2 +2000}\\ dv = \\int dx = x\n",
    "$$\n",
    "\n",
    "Evaluate the equation above using the Trapezoid Method."
   ]
  },
  {
   "cell_type": "code",
   "execution_count": 112,
   "metadata": {},
   "outputs": [],
   "source": [
    "# Problem 4 solution\n"
   ]
  },
  {
   "cell_type": "markdown",
   "metadata": {},
   "source": [
    "### **Problem 5** (2pts)\n",
    "##### This problem is autograded.\n",
    "\n",
    "Since the area of the unit circle is $A = \\pi$ , it follows that\n",
    "$$\n",
    "\\frac{\\pi}{2} = \\int_{-1}^1 \\sqrt{1-x^2} dx.\n",
    "$$\n",
    "\n",
    "Therefore we can approximate $\\pi$ by approximating this integral.\n",
    "\n",
    "Write a function `pi_approx_trapz(dx)` with output `pi_approx` that uses the **Trapezoid Method** to compute approximate values of $\\pi$ in this way. Print your approximation results for $dx = 1,\\ 1/2,\\ 1/4$ and $1/8$ and comment on them."
   ]
  },
  {
   "cell_type": "code",
   "execution_count": 113,
   "metadata": {},
   "outputs": [],
   "source": [
    "# Problem 5 solution\n"
   ]
  },
  {
   "cell_type": "markdown",
   "metadata": {},
   "source": [
    "### Problem 6 (2pts)\n",
    "##### This problem is autograded.\n",
    "\n",
    "Repeat Problem 5 but write a function `pi_approx_simps(dx)` with output `pi_approx` that uses **Simpson's Method** instead of the Trapezoid Method. See Lecture 10 and the recommended Calculus text in the Syllabus for material on Simpson's Method. Are the approximations for a given $dx$ better than for the Trapezoid Method?"
   ]
  },
  {
   "cell_type": "code",
   "execution_count": 114,
   "metadata": {},
   "outputs": [],
   "source": [
    "# Solution for Problem 6\n"
   ]
  },
  {
   "cell_type": "markdown",
   "metadata": {},
   "source": [
    "### Problem 7\n",
    "\n",
    "Periodic functions can be written as an infinite sum of sine and cosine waves using the formula for Fourier series:\n",
    "\n",
    "$$f(x) = \\frac{A_0}{2} + \\sum_{n=1}^\\infty \\left[A_n\\cos(nx) + B_n\\sin(nx)\\right]$$\n",
    "\n",
    "It can be shown that the values of $A_n$ and $B_n$ can be computed using the following formulas with $n \\geq 0$:\n",
    "\n",
    "\\begin{align*}\n",
    "    A_n &= \\frac{1}{\\pi}\\int_{-\\pi}^\\pi f(x)\\cos(nx)\\ dx \\\\\n",
    "    B_n &= \\frac{1}{\\pi}\\int_{-\\pi}^\\pi f(x)\\sin(nx)\\ dx\n",
    "\\end{align*}\n",
    "\n",
    "Much like the Talyor series you're already familiar with, functions can be approximated by truncating the Fourier series at some $n = N$. Fourier series can be used to approximate some particularly nasty functions, such as the step function, and they form the basis of many engineering applications, such as signal processing.\n",
    "\n",
    "\n",
    "#### a) (4 points)\n",
    "##### This problem is autograded.\n",
    "\n",
    "Write a function `my_fourier_coef(f,n)` with output `[An,Bn]`, where `f` is an function object that of a $2\\pi$-periodic function $f$. The function `my_fourier_coef` should compute the $n$-th Fourier coefficients, $A_n$ and $B_n$, in the Fourier series for $f$ defined by the two formulas given earlier. Use Simpson's method to perform the integration with at least 1000 points. Ensure that your function returns the results `[An,Bn]` as a list."
   ]
  },
  {
   "cell_type": "code",
   "execution_count": 115,
   "metadata": {},
   "outputs": [],
   "source": [
    "# Problem 7a solution\n"
   ]
  },
  {
   "cell_type": "markdown",
   "metadata": {},
   "source": [
    "#### b) (2 points)\n",
    "\n",
    "Test your `my_fourier_coef` using the `plot_result` function given below with\n",
    "\n",
    " 1. $f(x) = \\sin(\\exp(x))$\n",
    " 2. $f(x) = \\frac{x}{x^2 + 1}$\n",
    " 3. $f(x) = -x^3\\exp(-x^2)$\n",
    " \n",
    "for $N = 10, 30$. Comment on the differences between the plots for the different $N$. One of the $f$'s will be identical for both values of $N$, which one is it? Look at $f(-\\pi)$ and $f(\\pi)$ and conjecture as to why the Fourier approximation is better for that $f$ than for the others."
   ]
  },
  {
   "cell_type": "code",
   "execution_count": 106,
   "metadata": {},
   "outputs": [],
   "source": [
    "def plot_results(f, N):\n",
    "    x = np.linspace(-np.pi, np.pi, 10000)\n",
    "    [A0, B0] = my_fourier_coef(f, 0)\n",
    "    y = A0*np.ones(len(x))/2\n",
    "    for n in range(1, N):\n",
    "        [An, Bn] = my_fourier_coef(f, n)\n",
    "        y += An*np.cos(n*x)+Bn*np.sin(n*x)\n",
    "    plt.figure(figsize = (10,6))\n",
    "    plt.plot(x, f(x), label = \"analytic\")\n",
    "    plt.plot(x, y, label = \"approximate\")\n",
    "    plt.xlabel(\"x\")\n",
    "    plt.ylabel(\"y\")\n",
    "    plt.grid()\n",
    "    plt.legend()\n",
    "    plt.title(f\"{N}th Order Fourier Approximation\")\n",
    "    plt.show()"
   ]
  },
  {
   "cell_type": "code",
   "execution_count": 116,
   "metadata": {
    "scrolled": false
   },
   "outputs": [],
   "source": [
    "# Problem 7b solution\n"
   ]
  }
 ],
 "metadata": {
  "colab": {
   "name": "Assignment9_LastName_FirstName_Solution.ipynb",
   "provenance": []
  },
  "kernelspec": {
   "display_name": "Python 3 (ipykernel)",
   "language": "python",
   "name": "python3"
  },
  "language_info": {
   "codemirror_mode": {
    "name": "ipython",
    "version": 3
   },
   "file_extension": ".py",
   "mimetype": "text/x-python",
   "name": "python",
   "nbconvert_exporter": "python",
   "pygments_lexer": "ipython3",
   "version": "3.8.5"
  }
 },
 "nbformat": 4,
 "nbformat_minor": 1
}
