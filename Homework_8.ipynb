{
 "cells": [
  {
   "cell_type": "markdown",
   "metadata": {},
   "source": [
    "# Homework 8\n",
    "\n",
    "## Due date: Friday, March 18 at 11:59pm in Gradescope\n",
    "\n",
    "###  Use the following file name for submitting to Gradescope:  \n",
    "\n",
    "`Homework_8.py`\n",
    "#### This assignment is worth 25 points."
   ]
  },
  {
   "cell_type": "code",
   "execution_count": 1,
   "metadata": {},
   "outputs": [],
   "source": [
    "import numpy as np\n",
    "import matplotlib.pyplot as plt\n",
    "try:\n",
    "    %matplotlib inline\n",
    "except:\n",
    "    pass"
   ]
  },
  {
   "cell_type": "markdown",
   "metadata": {},
   "source": [
    "## **Problem 1 (3 points)**\n",
    "\n",
    "We can generalize the Fibonacci sequence so that we have the recurrence relationship\n",
    "\n",
    "$$\n",
    "p_{n} = ap_{n-1} + bp_{n-2}, ~ a, b \\in \\mathbb{R}, ~ n\\geq 2,\n",
    "$$\n",
    "\n",
    "where we start the sequence $p_{n}$ with the initial conditions\n",
    "\n",
    "$$\n",
    "p_{0} = s_{0}, ~ p_{1} = 1, ~ s_{0} \\in \\mathbb{R}.\n",
    "$$\n",
    "\n",
    "#### (a)\n",
    "\n",
    "Using the guess $p_{n} = \\lambda^{n}$, show that you get two solutions for $\\lambda$,   say $\\lambda_{\\pm}$, where\n",
    "\n",
    "$$\n",
    "\\lambda_{\\pm} = \\frac{1}{2}\\left(a \\pm \\sqrt{a^2+4b}\\right)\n",
    "$$\n",
    "Remember: the word \"show\" should indicate to you to show work."
   ]
  },
  {
   "cell_type": "code",
   "execution_count": 2,
   "metadata": {},
   "outputs": [],
   "source": [
    "#Solution for Problem 1a\n"
   ]
  },
  {
   "cell_type": "markdown",
   "metadata": {},
   "source": [
    "#### (b) \n",
    "\n",
    "Writing the general solution as \n",
    "\n",
    "$$\n",
    "p_{n} = c_{+}\\lambda_{+}^{n} + c_{-}\\lambda_{-}^{n}\n",
    "$$\n",
    "\n",
    "show that when we take our initial conditions into account, we find that the constants $c_{+}$ and $c_{-}$ are given by \n",
    "\n",
    "$$\n",
    "c_{+} = \\frac{1-s_{0}\\lambda_{-}}{\\lambda_{+}-\\lambda_{-}}, ~ c_{-} = \\frac{s_{0}\\lambda_{+}-1}{\\lambda_{+}-\\lambda_{-}}\n",
    "$$"
   ]
  },
  {
   "cell_type": "code",
   "execution_count": 3,
   "metadata": {},
   "outputs": [],
   "source": [
    "#Solution for Problem 1b\n"
   ]
  },
  {
   "cell_type": "markdown",
   "metadata": {},
   "source": [
    "#### (c) \n",
    "Let $b = 1$ and $a=2$.  \n",
    "\n",
    "Determine which of the following is correct (you must show work to obtain full credit): \n",
    "> A) $\\left|\\lambda_{+}\\right| > 1, \\text{ and } \\left|\\lambda_{-} \\right|<1$\n",
    ">\n",
    "> B) $\\left|\\lambda_{-}\\right| > 1, \\text{ and } \\left|\\lambda_{+} \\right|<1$\n"
   ]
  },
  {
   "cell_type": "code",
   "execution_count": 4,
   "metadata": {},
   "outputs": [],
   "source": [
    "# Solution for Problem 1c\n"
   ]
  },
  {
   "cell_type": "markdown",
   "metadata": {},
   "source": [
    "## **Problem 2 (6 points)**\n",
    "\n",
    "**(This problem is autograded.)**\n",
    "\n",
    "The $3n+1$ sequence is generated using the following rules:\n",
    "\n",
    "- Start with a positive integer n.\n",
    "\n",
    "- If n = 1, stop.\n",
    "\n",
    "- If n is even, replace it with n/2.\n",
    "\n",
    "- If n is odd, replace it with 3n+1.\n",
    "\n",
    "So if we started with $n=3$, then we would generate the sequence\n",
    "\n",
    "$$\n",
    "3, 10, 5, 16, 8, 4, 2, 1\n",
    "$$\n",
    "\n",
    "The unsolved mathematical problem (called the Collatz conjecture) is whether this code can run forever i.e. it is unknown whether there are any starting values $n$ which generate a sequence which goes on for forever.  Thus, an interesting associated quantity we would want to know is how many terms a given value of $n$ generates via the $3n+1$ sequence.  We call this number $L(n)$.  For example then, using our example of $n=3$ above, we have that \n",
    "\n",
    "$$\n",
    "L(3)  = 8\n",
    "$$\n",
    "\n",
    "Write a function called `L` to find $L(n)$ for any given $n$ and then generate a plot of $L(n)$ for $1\\leq n \\leq 1000$.  Discuss any trends you observe, make sure to label the axes and plot the values with dots or stars instead of lines (This can be done using `'o'` or `'*'` as the third argument given to `plt.plot`). The function should accept a single integer argument $n$ and return a single integer value $L(n)$. \n",
    "\n",
    "To generate a sequence of integers using `numpy`, it is preferable to use `np.arange`, instead of `np.linspace`.\n",
    "For example, for this problem, you should use \n",
    "\n",
    "> `n_vals = np.arange(1, 1000+1)`\n",
    "\n",
    "instead of \n",
    "\n",
    "> `n_vals = np.linspace(1, 1000, 1000)`\n",
    "\n",
    "because `np.arange(1, 1000+1)` gives you a sequence of integers by default and `np.linspace(1, 1000, 1000)` does not.\n",
    "\n",
    "The autograder will grade the function for 4 pts, and the graph will be hand-graded for 2 pts.\n"
   ]
  },
  {
   "cell_type": "code",
   "execution_count": 20,
   "metadata": {},
   "outputs": [],
   "source": [
    "#Solution for Problem 2\n"
   ]
  },
  {
   "cell_type": "markdown",
   "metadata": {},
   "source": [
    "## **Problem 3 (2 points)**\n",
    "**(This problem is autograded.)**\n",
    "\n",
    "\n",
    "Write a function called `janken` that plays Rock, Paper, Scissors against your computer. \n",
    "\n",
    "The way to do this is to assign numbers to Rock, Paper, and Scissors and use `if-elif-else` statements. Let 1 correspond to Rock, 2 correspond to Paper and 3 correspond to Scissors.\n",
    "\n",
    "The function should accept a single integer argument that is either 1, 2, or 3; each \n",
    "corresponding to the 3 different hands you can play. The function must return a string that \n",
    "indicates who played what and who won with the following format:\n",
    "\n",
    "\n",
    "> `\"You played {your play}; Skynet played {computer's play}. {\"You\" or \"Skynet\"} wins!\"`\n",
    "\n",
    "\n",
    "For example, after writing the function, the following code using the function"
   ]
  },
  {
   "cell_type": "raw",
   "metadata": {},
   "source": [
    "# for _ in range(10):\n",
    "#     your_play = random.randint(1,3)\n",
    "#     print(janken(your_play))\n",
    "#\n",
    "# print()\n",
    "#\n",
    "# print(janken(4))\n",
    "# print(janken(0))\n",
    "# print(janken(777))"
   ]
  },
  {
   "cell_type": "markdown",
   "metadata": {},
   "source": [
    "should have the following output:"
   ]
  },
  {
   "cell_type": "raw",
   "metadata": {},
   "source": [
    "# You played Scissors; Skynet played Paper. You win!\n",
    "# You played Scissors; Skynet played Paper. You win!\n",
    "# You played Scissors; Skynet played Rock. Skynet wins!\n",
    "# You played Scissors; Skynet played Rock. Skynet wins!\n",
    "# You played Scissors; Skynet played Paper. You win!\n",
    "# You played Paper; Skynet played Rock. You win!\n",
    "# You played Scissors; Skynet played Paper. You win!\n",
    "# You played Rock; Skynet played Paper. Skynet wins!\n",
    "# You played Paper; Skynet played Scissors. Skynet wins!\n",
    "# You played Rock; Skynet played Rock. It's a tie!\n",
    "# \n",
    "# That's not a valid play; Skynet wins!\n",
    "# That's not a valid play; Skynet wins!\n",
    "# That's not a valid play; Skynet wins!"
   ]
  },
  {
   "cell_type": "markdown",
   "metadata": {},
   "source": [
    "_Ignore the leading `#` and space on each line._\n",
    "\n",
    "Note: Due to \"randomness\", the outcomes of your 10 games won't match the outcomes of the games in the example; but your function's output should match the **format** of the example.\n",
    "\n",
    "The following two lines of code may be used to generate random integers between 1 and 3.\n",
    "\n",
    "> `import random`\n",
    "> \n",
    "> `print(random.randint(1,3))`\n",
    "\n",
    "Use this to program the computer to \"choose\" it's hands."
   ]
  },
  {
   "cell_type": "code",
   "execution_count": 21,
   "metadata": {},
   "outputs": [],
   "source": [
    "#Solution for Problem 3\n",
    "import random\n"
   ]
  },
  {
   "cell_type": "markdown",
   "metadata": {},
   "source": [
    "## **Problem 4 (3 points)**\n",
    "\n",
    "**(This problem is autograded.)**\n",
    "\n",
    "The sequence $\\{a_n\\}$ is defined recursively by the equation:\n",
    "\n",
    "\n",
    "$$n(n-1)a_n = (n-1)(n-2)a_{n-1} - (n-3)a_{n-2},\\quad n > 1,\\ a_0 = a_1 = 1$$\n",
    "\n",
    "Write a function `sum_an` to compute the sum:\n",
    "\n",
    "$$A(N) = \\sum_{n=0}^{N} a_n$$\n",
    "\n",
    "The funtion should accept a single argument $N$ and return the computed sum up to \n",
    "and including $N$.\n",
    "Run and display the results of your code for $N = 1, 5, 10, 100$."
   ]
  },
  {
   "cell_type": "code",
   "execution_count": 22,
   "metadata": {},
   "outputs": [],
   "source": [
    "#Solution for Problem 4\n"
   ]
  },
  {
   "cell_type": "markdown",
   "metadata": {},
   "source": [
    "## **Problem 5** (5 points)\n",
    "\n",
    "A sequence that arises in ecology as a model for population growth is defined by the logistic difference equation\n",
    "$$ \n",
    "p_{n+1} = k p_n(1 - p_n),\\ n > 0\n",
    "$$\n",
    "\n",
    "where $p_n$ measures the size of the population of the $n$-th generation of a single species.\n",
    "\n",
    "An ecologist is interested in predicting the size of the population as time goes on, and asks these questions: Will it stabilize at a limiting value? Will it change in a cyclical fashion? Or will it exhibit random behavior?\n",
    "\n",
    "#### (a) \n",
    "**(This problem is autograded.)**\n",
    "\n",
    "\n",
    "Write a function `p_n` to compute the next $n$ terms of this sequence starting with an initial population $p_0 > 0$ with growth rate $k > 0$. The function should accept 3 arguments ($p_0,\\ k,\\ n$, in that order) and should return a numpy array containing \n",
    "\n",
    "$$[p_0,\\ p_1,\\ p_2,\\ \\cdots,\\ p_{n-1},\\ p_n]$$\n",
    "\n",
    "Note: the length of the returned array should be $n + 1$.\n",
    "\n"
   ]
  },
  {
   "cell_type": "code",
   "execution_count": 23,
   "metadata": {},
   "outputs": [],
   "source": [
    "# Solution for Problem 5a\n"
   ]
  },
  {
   "cell_type": "markdown",
   "metadata": {},
   "source": [
    "#### (b) \n",
    "Calculate 30 terms of the sequence for $p_0 =\\frac{1}{2}$ and for two values of $k$ such that $1 < k < 3$. Graph each sequence on the same plot. Do the sequences appear to converge? Repeat for a different value of $p_0$ between $0$ and $1$, and graph that on the same plot. Does the limit depend on the choice of $p_0$? Does it depend on the choice of $k$? In the spirit of what $p_n$ represents, what is happening to the population? As always, label your axes and include a legend for the plot."
   ]
  },
  {
   "cell_type": "code",
   "execution_count": 24,
   "metadata": {},
   "outputs": [],
   "source": [
    "# Solution for Problem 5b\n"
   ]
  },
  {
   "cell_type": "markdown",
   "metadata": {},
   "source": [
    "#### (c)\n",
    "Calculate the same number of terms of the sequence for a value of $k$ between 3 and 3.4 and plot them. What do you notice about the behavior of the population? Again, label everything in your plot. \n",
    "\n",
    "_Hint: You may want to plot using stars `'*'` or circles `'o'` instead of lines like you did in Problem 2. It'll be easier to see what's happening. This bit of advice applies to the rest of the problem as well._"
   ]
  },
  {
   "cell_type": "code",
   "execution_count": 25,
   "metadata": {},
   "outputs": [],
   "source": [
    "# Solution for Problem 5c\n"
   ]
  },
  {
   "cell_type": "markdown",
   "metadata": {},
   "source": [
    "#### (d) \n",
    "Experiment with values of $k$ between 3.4 and 3.5 and plot the results. What happens to the population?"
   ]
  },
  {
   "cell_type": "code",
   "execution_count": 26,
   "metadata": {},
   "outputs": [],
   "source": [
    "# Solution for Problem 5d\n"
   ]
  },
  {
   "cell_type": "markdown",
   "metadata": {},
   "source": [
    "#### (e) \n",
    "\n",
    "For values of $k$ between 3.6 and 4, compute and plot at least 100 terms and comment on the behavior of the sequence. What happens if you change $p_0$ by 0.001? This type of behavior is called *chaotic* and is exhibited by insect populations under certain conditions."
   ]
  },
  {
   "cell_type": "code",
   "execution_count": 27,
   "metadata": {},
   "outputs": [],
   "source": [
    "# Solution for Problem 5e\n"
   ]
  },
  {
   "cell_type": "markdown",
   "metadata": {},
   "source": [
    "## **Problem 6** (3 points)\n",
    "\n",
    "Here we will make plots to study the results of generalized Fibonacci sequence\n",
    "from Problem 1.\n",
    "\n",
    "#### (a) \n",
    "\n",
    "**(This problem is autograded.)**\n",
    "\n",
    "Using the recurrence relation from **Problem 1** write a function `lucas` which generates, for $n\\geq 2$ and real values $a$, $b$, $p_0$, $p_1$, the array of points \n",
    "\n",
    "$$[p_0,\\ p_1,\\ p_2,\\ \\cdots,\\ p_{n-1},\\ p_n]$$\n",
    "\n",
    "The function should accept 5 arguments: $n$, $a$, $b$, $p_0$ and $p_1$ in that order and it should return the array of length $n + 1$ detailed above as a numpy array."
   ]
  },
  {
   "cell_type": "code",
   "execution_count": 28,
   "metadata": {},
   "outputs": [],
   "source": [
    "# Solution for Problem 6a\n"
   ]
  },
  {
   "cell_type": "markdown",
   "metadata": {},
   "source": [
    "#### (b) \n",
    "\n",
    "Fixing $n=15$, $p_{0}=0$, $p_{1}=2$, $a=2$, $b=1$  generate a plot of $p_{n}$.  Make sure axes are appropriately labeled.  "
   ]
  },
  {
   "cell_type": "code",
   "execution_count": 29,
   "metadata": {},
   "outputs": [],
   "source": [
    "# Soution for Problem 6b\n"
   ]
  },
  {
   "cell_type": "markdown",
   "metadata": {},
   "source": [
    "#### (c) \n",
    "\n",
    "Fixing $n=25$, $s_{0}=1$, $s_{1}=1$, $a=1$ choose $b=-1/2$ and generate a plot of $p_{n}$.  Briefly explain the results you see and how they differ from those in [b]"
   ]
  },
  {
   "cell_type": "code",
   "execution_count": 31,
   "metadata": {},
   "outputs": [],
   "source": [
    "# Solution for Problem 6c\n"
   ]
  },
  {
   "cell_type": "markdown",
   "metadata": {},
   "source": [
    "## **Problem 7** (3 points)\n",
    "\n",
    "When we write \n",
    "    \n",
    "> `xvals = np.linspace(a,b,int(n)+1)`\n",
    "\n",
    "we are generating a sequence of points $\\{x_{j}\\}$ such that \n",
    "\n",
    "$$\n",
    "x_{j} = a + j\\delta x, ~ \\delta x = \\frac{b-a}{n}, ~ j=0,\\cdots,n.\n",
    "$$\n",
    "\n",
    "Thus, if I wanted to generate a sequence of points between $a=4$ and $b=7$ with spacing $\\delta x=.3$, then I would find \n",
    "\n",
    "$$\n",
    ".3 = \\frac{7-4}{n}\n",
    "$$\n",
    "\n",
    "so that $n = 10$.  I could then generate these points via the code\n",
    "\n",
    "> `xvals = np.linspace(4,7,10+ 1)`\n",
    "\n",
    "Using the model, write the code which will generate the following sequences of points. \n",
    "In each case, make sure to show your work in $\\LaTeX$ for finding $n$ and other relevant parameters.\n",
    "Make sure to print out the sequence once you've figured out how to generate it.\n",
    "\n",
    "\n",
    "#### (a) \n",
    "\n",
    "A sequence of points between $a=-5$ and $b=3$ with spacing $\\delta x = 5^{-3}$."
   ]
  },
  {
   "cell_type": "code",
   "execution_count": 32,
   "metadata": {},
   "outputs": [],
   "source": [
    "#Solution for Problem 7a\n"
   ]
  },
  {
   "cell_type": "markdown",
   "metadata": {},
   "source": [
    "#### (b) \n",
    "\n",
    "A sequence of points between $a=0$ and $b=25$ with spacing $\\delta x = 10^{-m}$, where $m$ is a positive integer that a user would specify. For simplicity, you can write a function that generates the sequence but that isn't necessary."
   ]
  },
  {
   "cell_type": "code",
   "execution_count": 33,
   "metadata": {},
   "outputs": [],
   "source": [
    "#Solution for Problem 7b\n"
   ]
  },
  {
   "cell_type": "markdown",
   "metadata": {},
   "source": [
    "#### (c)\n",
    "\n",
    "Using the result from **(a)** and array slicing, what code would I write to find the points $x_{j}$ such that $-2 \\leq x_{j} \\leq 1$?  Your answer should be in the form `xvals[n1:n2]` where `n1` and `n2` are two integers you must find and `xvals` is the array you generated in part **(a)**.  "
   ]
  },
  {
   "cell_type": "code",
   "execution_count": 34,
   "metadata": {},
   "outputs": [],
   "source": [
    "#Solution for Problem 7c\n"
   ]
  },
  {
   "cell_type": "markdown",
   "metadata": {},
   "source": [
    "#### (d) \n",
    "\n",
    "Using the result from **(b)** and array slicing, what code would I write to find the points $x_{j}$ such that $4\\leq x_{j} \\leq 13$?  Your answer should be in the form `xvals[n1:n2]` where `n1` and `n2` are two integers you must find, though they will be in terms of $m$. Again you may write a function of $m$, but it isn't necessary."
   ]
  },
  {
   "cell_type": "code",
   "execution_count": 35,
   "metadata": {},
   "outputs": [],
   "source": [
    "#Solution for Problem 7d\n"
   ]
  }
 ],
 "metadata": {
  "kernelspec": {
   "display_name": "Python 3 (ipykernel)",
   "language": "python",
   "name": "python3"
  },
  "language_info": {
   "codemirror_mode": {
    "name": "ipython",
    "version": 3
   },
   "file_extension": ".py",
   "mimetype": "text/x-python",
   "name": "python",
   "nbconvert_exporter": "python",
   "pygments_lexer": "ipython3",
   "version": "3.8.5"
  }
 },
 "nbformat": 4,
 "nbformat_minor": 2
}
